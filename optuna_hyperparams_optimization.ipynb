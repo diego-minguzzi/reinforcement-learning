{
  "cells": [
    {
      "cell_type": "markdown",
      "metadata": {
        "id": "view-in-github",
        "colab_type": "text"
      },
      "source": [
        "<a href=\"https://colab.research.google.com/github/diego-minguzzi/reinforcement-learning/blob/master/optuna_hyperparams_optimization.ipynb\" target=\"_parent\"><img src=\"https://colab.research.google.com/assets/colab-badge.svg\" alt=\"Open In Colab\"/></a>"
      ]
    },
    {
      "cell_type": "markdown",
      "metadata": {
        "id": "Bla10dVnnUMQ"
      },
      "source": [
        "# Hyperparameter optimization for Deep RL using Optuma\n",
        "Diego Minguzzi ([profile](https://www.linkedin.com/in/diego-minguzzi-2775b78/))\n",
        "\n",
        "Online course [Deep Reinforcement Learning](https://huggingface.co/learn/deep-rl-course), by Hugging Face: exercise of the [Bonus Unit 2](https://huggingface.co/learn/deep-rl-course/unitbonus2/introduction).\n",
        "<br>\n",
        "Adapted from Antonin’s Raffin ICRA 2022 presentations:\n",
        "\n",
        "*  [The tutorial on YouTube](https://youtu.be/ihP7E76KGOI)\n",
        "*  [The related Colab Notebook](https://colab.research.google.com/github/araffin/tools-for-robotic-rl-icra2022/blob/main/notebooks/optuna_lab.ipynb)\n",
        "\n",
        "\n",
        "See [Optuna](https://optuna.org/) and the [documentation](https://optuna.readthedocs.io/en/stable/index.html)\n",
        "\n",
        "The Gym Lunar lander environment is used.<br>"
      ]
    },
    {
      "cell_type": "markdown",
      "metadata": {
        "id": "Zw8vEW-Uny2C"
      },
      "source": [
        "## Lunar Lander environment"
      ]
    },
    {
      "cell_type": "markdown",
      "metadata": {
        "id": "XDGgClFFvGjC"
      },
      "source": [
        "## Imports and package installation"
      ]
    },
    {
      "cell_type": "code",
      "execution_count": 1,
      "metadata": {
        "colab": {
          "base_uri": "https://localhost:8080/"
        },
        "id": "ibe83HqqoCUU",
        "outputId": "dfe8fc25-f553-4b96-95d7-2c9261d125fd"
      },
      "outputs": [
        {
          "output_type": "stream",
          "name": "stdout",
          "text": [
            "Mounted at /content/drive\n"
          ]
        }
      ],
      "source": [
        "from google.colab import drive\n",
        "drive.mount('/content/drive')"
      ]
    },
    {
      "cell_type": "code",
      "execution_count": null,
      "metadata": {
        "id": "Hob0nSy5ojvK"
      },
      "outputs": [],
      "source": [
        "!apt install swig cmake\n",
        "!pip install gymnasium[box2d]\n",
        "!pip install huggingface_sb3\n",
        "!pip install stable-baselines3\n",
        "!pip install sb3-contrib\n",
        "!pip install optuna\n",
        "!pip install optuna-dashboard\n",
        "!pip install jupyterlab jupyterlab-optuna"
      ]
    },
    {
      "cell_type": "code",
      "source": [
        "import gymnasium as gym\n",
        "import collections\n",
        "import json\n",
        "import math\n",
        "import numpy as np\n",
        "import os.path\n",
        "import pickle\n",
        "import torch\n",
        "from typing import Any, Dict\n",
        "import torch.nn as nn"
      ],
      "metadata": {
        "id": "ZkUiih1QekNr"
      },
      "execution_count": 3,
      "outputs": []
    },
    {
      "cell_type": "code",
      "execution_count": 4,
      "metadata": {
        "id": "gT81klRgpmf1"
      },
      "outputs": [],
      "source": [
        "from stable_baselines3 import PPO, A2C, SAC, TD3, DQN\n",
        "from stable_baselines3.common.env_util import make_vec_env\n",
        "from stable_baselines3.common.evaluation import evaluate_policy\n",
        "from stable_baselines3.common.monitor import Monitor\n",
        "from stable_baselines3.common.env_util import make_vec_env\n",
        "from stable_baselines3.common.evaluation import evaluate_policy\n",
        "from stable_baselines3.common.callbacks import BaseCallback, CallbackList"
      ]
    },
    {
      "cell_type": "code",
      "execution_count": 5,
      "metadata": {
        "id": "CrJJvAwfum5l",
        "colab": {
          "base_uri": "https://localhost:8080/"
        },
        "outputId": "204d1667-9cc1-4301-c6f8-3a97057a221c"
      },
      "outputs": [
        {
          "output_type": "stream",
          "name": "stderr",
          "text": [
            "/usr/local/lib/python3.10/dist-packages/ipykernel/ipkernel.py:283: DeprecationWarning: `should_run_async` will not call `transform_cell` automatically in the future. Please pass the result to `transformed_cell` argument and any exception that happen during thetransform in `preprocessing_exc_tuple` in IPython 7.17 and above.\n",
            "  and should_run_async(code)\n"
          ]
        }
      ],
      "source": [
        "import optuna\n",
        "from optuna.pruners import MedianPruner\n",
        "from optuna.samplers import TPESampler\n",
        "from optuna.visualization import plot_optimization_history, plot_param_importances, plot_intermediate_values"
      ]
    },
    {
      "cell_type": "markdown",
      "source": [
        "## Set all parameters"
      ],
      "metadata": {
        "id": "4MJkExJH6BM9"
      }
    },
    {
      "cell_type": "code",
      "source": [
        "import logging as log\n",
        "LOG_FORMAT_STRING = \"%(asctime)s [%(levelname)-7s] %(message)s\"\n",
        "LOG_LEVEL= log.DEBUG\n",
        "LOG_ROOT_LOGGER = ''\n",
        "\n",
        "N_TRIALS =          25  # Maximum number of trials\n",
        "N_JOBS =            1   # Number of jobs to run in parallel\n",
        "N_STARTUP_TRIALS=   3   # Stop random sampling after N_STARTUP_TRIALS\n",
        "N_EVALUATIONS=      6\n",
        "N_TIMESTEPS =       int(300000)  # Training budget\n",
        "EVAL_FREQ =         int(N_TIMESTEPS / N_EVALUATIONS)\n",
        "N_EVAL_ENVS =       4\n",
        "N_EVAL_EPISODES =   8\n",
        "TIMEOUT =           int(60 * 60 * 5) # Expressed into seconds.\n",
        "NUM_STEPS_LR_UPDATE=5000 # After this many steps the learning rate is updated\n",
        "LR_UPDATE_FACTOR =  0.95 # Learning rate update factor\n",
        "POLICY=             'MlpPolicy'\n",
        "IS_DETERMINISTIC=   True\n",
        "IS_VERBOSE=         0\n",
        "N_WARMUP_STEPS=     N_EVALUATIONS // 3  # Do not prune before the warmup steps.\n",
        "SAVED_PARAMS_FILE=  'lunar_lander_params.json'\n",
        "SAVED_SNAPSHOT_FILE='opt_lunar_lander_study.pkl'\n",
        "SEED =              2024\n",
        "ENV_ID =            'LunarLander-v2'\n",
        "BEST_MODEL_FILE=    f'{ENV_ID}.model'\n",
        "RESULT_OBJECTIVE=   375.0\n",
        "\n",
        "HyperParams= collections.namedtuple('HyperParams', ['gamma',\n",
        "                                                    'learning_rate',\n",
        "                                                    'max_grad_norm',\n",
        "                                                    'n_epochs',\n",
        "                                                    'n_steps',\n",
        "                                                    'ent_coef',\n",
        "                                                    'batch_size'])\n",
        "# Guess Hyperparameters, used in the trials after GUESS_HYPERPARAMS_AFTER_N_TRIAL\n",
        "guess_hyperparams=[ HyperParams(gamma = 1.0 - 0.0016617315216418454,\n",
        "                                learning_rate = math.pow(10., -2.682161433845602),\n",
        "                                max_grad_norm = 0.3733377073391161,\n",
        "                                n_epochs= 5,\n",
        "                                n_steps = 2 ** 12,\n",
        "                                ent_coef= 0.01,\n",
        "                                batch_size=64),\n",
        "                    HyperParams(gamma = 1.0 - 0.00010534109595607163,\n",
        "                                learning_rate = math.pow(10., -2.7388359550396095),\n",
        "                                max_grad_norm = 0.30386280137092286,\n",
        "                                n_epochs= 5,\n",
        "                                n_steps = 2 ** 12,\n",
        "                                ent_coef= 0.01,\n",
        "                                batch_size=64)\n",
        "]\n",
        "\n",
        "GUESS_HYPERPARAMS_AFTER_N_TRIAL=10"
      ],
      "metadata": {
        "id": "PU4yo6TL2ama",
        "colab": {
          "base_uri": "https://localhost:8080/"
        },
        "outputId": "225ee1b3-570b-4a2b-83da-27c51ca3098d"
      },
      "execution_count": 6,
      "outputs": [
        {
          "output_type": "stream",
          "name": "stderr",
          "text": [
            "/usr/local/lib/python3.10/dist-packages/ipykernel/ipkernel.py:283: DeprecationWarning: `should_run_async` will not call `transform_cell` automatically in the future. Please pass the result to `transformed_cell` argument and any exception that happen during thetransform in `preprocessing_exc_tuple` in IPython 7.17 and above.\n",
            "  and should_run_async(code)\n"
          ]
        }
      ]
    },
    {
      "cell_type": "code",
      "source": [
        "log.basicConfig(level=LOG_LEVEL, format=LOG_FORMAT_STRING)\n",
        "log.getLogger().setLevel(LOG_LEVEL)\n",
        "roothandler= log.getLogger().handlers[0]\n",
        "roothandler.setFormatter( log.Formatter(LOG_FORMAT_STRING) )"
      ],
      "metadata": {
        "id": "1sObAIXqTLDM"
      },
      "execution_count": 7,
      "outputs": []
    },
    {
      "cell_type": "code",
      "execution_count": 8,
      "metadata": {
        "id": "PJprinsu1VfN"
      },
      "outputs": [],
      "source": [
        "DEFAULT_HYPERPARAMS = {\n",
        "    \"policy\": POLICY,\n",
        "    \"env\": ENV_ID,\n",
        "}"
      ]
    },
    {
      "cell_type": "code",
      "source": [
        "np.random.seed(SEED)"
      ],
      "metadata": {
        "id": "-WTgNvSudFTb"
      },
      "execution_count": 9,
      "outputs": []
    },
    {
      "cell_type": "code",
      "source": [
        "class DecreaseLearningRateCallback(BaseCallback):\n",
        "    \"\"\" Custom callback to decrease the learning rate periodically during training. \"\"\"\n",
        "\n",
        "    def __init__(self, decay_interval, decay_factor):\n",
        "        super(DecreaseLearningRateCallback, self).__init__()\n",
        "        self.decay_interval = decay_interval  # Interval at which to decrease the learning rate\n",
        "        self.decay_factor = decay_factor      # Factor by which to decrease the learning rate\n",
        "\n",
        "    def _on_step(self) -> bool:\n",
        "        if 0==(self.num_timesteps % self.decay_interval):\n",
        "            # Retrieve the current learning rate\n",
        "            current_lr = self.model.learning_rate\n",
        "\n",
        "            # Decrease the learning rate by the decay factor\n",
        "            new_lr = current_lr * self.decay_factor\n",
        "\n",
        "            # Set the new learning rate\n",
        "            self.model.learning_rate = new_lr\n",
        "            if 0==(self.num_timesteps % (10*self.decay_interval)):\n",
        "              log.debug(f'Num steps:{self.num_timesteps} current_lr:{current_lr} new_lr:{new_lr}')\n",
        "\n",
        "        return True"
      ],
      "metadata": {
        "id": "Wv9eRsI08gAY"
      },
      "execution_count": 10,
      "outputs": []
    },
    {
      "cell_type": "markdown",
      "metadata": {
        "id": "5DjXfev30D4h"
      },
      "source": [
        "### Define the sampling function\n",
        "\n"
      ]
    },
    {
      "cell_type": "code",
      "execution_count": 11,
      "metadata": {
        "id": "-Agrhz70vgGl"
      },
      "outputs": [],
      "source": [
        "def sample_ppo_params(trial: optuna.Trial) -> Dict[str, Any]:\n",
        "    \"\"\" Samples the model hyperparameters.\n",
        "    :param trial: Optuna trial object\n",
        "    :return: The sampled hyperparameters for the given trial.\n",
        "    \"\"\"\n",
        "    indx_trial= trial.number\n",
        "    if ( (indx_trial>=GUESS_HYPERPARAMS_AFTER_N_TRIAL)\n",
        "      and (indx_trial - GUESS_HYPERPARAMS_AFTER_N_TRIAL) < len(guess_hyperparams) ):\n",
        "      indx_guess= indx_trial - GUESS_HYPERPARAMS_AFTER_N_TRIAL\n",
        "      log.info(f'indx_trial:{indx_guess} indx_guess:{indx_guess}: using guessed params.')\n",
        "      gamma = guess_hyperparams[indx_guess].gamma\n",
        "      learning_rate = guess_hyperparams[indx_guess].learning_rate\n",
        "      max_grad_norm = guess_hyperparams[indx_guess].max_grad_norm\n",
        "      n_epochs = guess_hyperparams[indx_guess].n_epochs\n",
        "      n_steps = guess_hyperparams[indx_guess].n_steps\n",
        "      ent_coef= guess_hyperparams[indx_guess].ent_coef\n",
        "      batch_size= guess_hyperparams[indx_guess].batch_size\n",
        "    else:\n",
        "      gamma = 1.0 - trial.suggest_float(\"gamma\", 0.0001, 0.2, log=True)\n",
        "      learning_rate = math.pow(10., trial.suggest_float(\"learning_rate_exp\", -4.0, -1.0))\n",
        "      max_grad_norm = trial.suggest_float(\"max_grad_norm\", 0.3, 10.0, log=True)\n",
        "      n_epochs= trial.suggest_int(\"n_epochs\", 2, 16)\n",
        "      n_steps = 2 ** trial.suggest_int(\"exponent_n_steps\", 6, 13)\n",
        "\n",
        "    ent_coef= guess_hyperparams[-1].ent_coef\n",
        "    batch_size= guess_hyperparams[-1].batch_size\n",
        "\n",
        "    result= {\n",
        "        \"ent_coef\": ent_coef,\n",
        "        \"n_steps\": n_steps,\n",
        "        \"gamma\": gamma,\n",
        "        \"learning_rate\": learning_rate,\n",
        "        \"max_grad_norm\": max_grad_norm,\n",
        "        \"n_epochs\":n_epochs,\n",
        "        \"batch_size\":batch_size\n",
        "    }\n",
        "    log.info(f'sample_ppo_params() {trial.number}\\nParams:{result}')\n",
        "    return result"
      ]
    },
    {
      "cell_type": "markdown",
      "metadata": {
        "id": "89luGUge0XBK"
      },
      "source": [
        "### Integrate the performance evaluation in stable baselines."
      ]
    },
    {
      "cell_type": "code",
      "execution_count": 12,
      "metadata": {
        "id": "n4KXt4BZ0VmC"
      },
      "outputs": [],
      "source": [
        "from stable_baselines3.common.callbacks import EvalCallback\n",
        "\n",
        "class TrialEvalCallback(EvalCallback):\n",
        "    \"\"\"\n",
        "    Callback used for evaluating and reporting a trial.\n",
        "\n",
        "    :param eval_env: Evaluation environement\n",
        "    :param trial: Optuna trial object\n",
        "    :param n_eval_episodes: Number of evaluation episodes\n",
        "    :param eval_freq:   Evaluate the agent every ``eval_freq`` call of the callback.\n",
        "    :param deterministic: Whether the evaluation should\n",
        "        use a stochastic or deterministic policy.\n",
        "    :param verbose:\n",
        "    \"\"\"\n",
        "    def __init__(self,\n",
        "                  eval_env: gym.Env,\n",
        "                  trial: optuna.Trial,\n",
        "                  n_eval_episodes: int = 5,\n",
        "                  eval_freq: int = 10000,\n",
        "                  deterministic: bool = IS_DETERMINISTIC,\n",
        "                  verbose: int = IS_VERBOSE):\n",
        "\n",
        "        super().__init__(\n",
        "            eval_env=eval_env,\n",
        "            n_eval_episodes=n_eval_episodes,\n",
        "            eval_freq=eval_freq,\n",
        "            deterministic=deterministic,\n",
        "            verbose=verbose,\n",
        "        )\n",
        "        self.trial = trial\n",
        "        self.eval_idx = 0\n",
        "        self.is_pruned = False\n",
        "\n",
        "    def _on_step(self) -> bool:\n",
        "        if self.eval_freq > 0 and self.n_calls % self.eval_freq == 0:\n",
        "            # Evaluate policy (done in the parent class)\n",
        "            super()._on_step()\n",
        "            self.eval_idx += 1\n",
        "            # Send report to Optuna\n",
        "            self.trial.report(self.last_mean_reward, self.eval_idx)\n",
        "            # Prune trial if need\n",
        "            if self.trial.should_prune():\n",
        "                self.is_pruned = True\n",
        "                return False\n",
        "        return True"
      ]
    },
    {
      "cell_type": "markdown",
      "metadata": {
        "id": "4hgTX7jk1DDj"
      },
      "source": [
        "### Define the objective function: it evaluates a set of hyperparameters."
      ]
    },
    {
      "cell_type": "code",
      "execution_count": 13,
      "metadata": {
        "id": "jmMYcOmu1Ayt"
      },
      "outputs": [],
      "source": [
        "def objective(trial: optuna.Trial) -> float:\n",
        "    \"\"\"\n",
        "    Objective function using by Optuna to evaluate\n",
        "    one configuration (i.e., one set of hyperparameters).\n",
        "\n",
        "    Given a trial object, it will sample hyperparameters,\n",
        "    evaluate it and report the result (mean episodic reward after training)\n",
        "\n",
        "    :param trial: Optuna trial object\n",
        "    :return: Mean episodic reward after training\n",
        "    \"\"\"\n",
        "    print(f'objective started trial:{trial.number}.')\n",
        "    kwargs = DEFAULT_HYPERPARAMS.copy()\n",
        "\n",
        "    # 1. Sample hyperparameters and update the keyword arguments\n",
        "    sampled_params= sample_ppo_params( trial)\n",
        "    kwargs.update( sampled_params)\n",
        "\n",
        "    # Create the RL model\n",
        "    model = PPO(**kwargs)\n",
        "\n",
        "    # 2. Create envs used for evaluation using `make_vec_env`, `ENV_ID` and `N_EVAL_ENVS`\n",
        "    eval_env= make_vec_env(ENV_ID, N_EVAL_ENVS)\n",
        "\n",
        "    # 3. Create the `TrialEvalCallback` callback defined above that will periodically evaluate\n",
        "    eval_callback = TrialEvalCallback( eval_env, trial, N_EVAL_EPISODES, EVAL_FREQ, deterministic=IS_DETERMINISTIC)\n",
        "    lr_callback = DecreaseLearningRateCallback(decay_interval=NUM_STEPS_LR_UPDATE, decay_factor=LR_UPDATE_FACTOR)\n",
        "    list_callbacks = CallbackList([eval_callback, lr_callback])\n",
        "\n",
        "    nan_encountered = False\n",
        "    try:\n",
        "        # Train the model\n",
        "        model.learn(N_TIMESTEPS, callback=list_callbacks)\n",
        "    except AssertionError as e:\n",
        "        # Sometimes, random hyperparams can generate NaN\n",
        "        log.error('Exception in objective:{e}')\n",
        "        nan_encountered = True\n",
        "    finally:\n",
        "        # Free memory\n",
        "        model.env.close()\n",
        "        eval_env.close()\n",
        "\n",
        "    # Tell the optimizer that the trial failed\n",
        "    if nan_encountered:\n",
        "        return float(\"nan\")\n",
        "\n",
        "    if eval_callback.is_pruned:\n",
        "        raise optuna.exceptions.TrialPruned()\n",
        "\n",
        "    mean_reward, std_reward = evaluate_policy(model, eval_env, N_EVAL_EPISODES, deterministic=IS_DETERMINISTIC)\n",
        "    result = mean_reward-std_reward\n",
        "    log.info(f'objective: trial:{trial.number}\\nMean reward:{mean_reward} std_reward:{std_reward} result:{result}')\n",
        "\n",
        "    if (0==trial.number) or ( (trial.number>0) and (result > trial.study.best_value) ):\n",
        "      model.save(BEST_MODEL_FILE)\n",
        "      log.info(f'Saved best model to file:{BEST_MODEL_FILE}')\n",
        "\n",
        "    eval_callback.mean_minus_std= result\n",
        "    return result"
      ]
    },
    {
      "cell_type": "markdown",
      "metadata": {
        "id": "qS4xYLwr2N0d"
      },
      "source": [
        "### Run the Optimization loop\n",
        "\n",
        "The optimization loop runs for a given number of trials, or until the TIMEOUT expires.<br>\n",
        "Then, a snapshot file is saved.  If the snapshot exists, it is loaded before starting the optimization."
      ]
    },
    {
      "cell_type": "code",
      "execution_count": 14,
      "metadata": {
        "id": "FqiTi3gvDxb3",
        "colab": {
          "base_uri": "https://localhost:8080/"
        },
        "outputId": "292f2854-c3ae-410e-eb74-2eac444439e6"
      },
      "outputs": [
        {
          "output_type": "stream",
          "name": "stderr",
          "text": [
            "2024-01-01 08:42:49,860 [INFO   ] Started the study from scratch.\n",
            "[I 2024-01-01 08:42:49,862] A new study created in memory with name: no-name-016626b3-0f0b-47de-8ca5-9f23c1fa928f\n",
            "2024-01-01 08:42:49,871 [INFO   ] sample_ppo_params() 0\n",
            "Params:{'ent_coef': 0.01, 'n_steps': 1024, 'gamma': 0.9947205391014854, 'learning_rate': 0.0042755129544146675, 'max_grad_norm': 3.5955466505396703, 'n_epochs': 8, 'batch_size': 64}\n"
          ]
        },
        {
          "output_type": "stream",
          "name": "stdout",
          "text": [
            "objective started trial:0.\n"
          ]
        },
        {
          "output_type": "stream",
          "name": "stderr",
          "text": [
            "2024-01-01 08:45:18,801 [DEBUG  ] Num steps:50000 current_lr:0.002694639515789764 new_lr:0.002559907540000276\n",
            "2024-01-01 08:47:54,833 [DEBUG  ] Num steps:100000 current_lr:0.00161338021603475 new_lr:0.0015327112052330124\n",
            "2024-01-01 08:50:20,383 [DEBUG  ] Num steps:150000 current_lr:0.0009659903323764005 new_lr:0.0009176908157575804\n",
            "2024-01-01 08:52:34,980 [DEBUG  ] Num steps:200000 current_lr:0.00057837409494091 new_lr:0.0005494553901938645\n",
            "2024-01-01 08:55:06,590 [DEBUG  ] Num steps:250000 current_lr:0.00034629393533968793 new_lr:0.0003289792385727035\n",
            "2024-01-01 08:57:32,397 [DEBUG  ] Num steps:300000 current_lr:0.00020733897092209777 new_lr:0.00019697202237599286\n",
            "2024-01-01 08:57:35,022 [INFO   ] objective: trial:0\n",
            "Mean reward:-94.604606875 std_reward:91.11242539314406 result:-185.71703226814407\n",
            "2024-01-01 08:57:35,039 [INFO   ] Saved best model to file:LunarLander-v2.model\n",
            "[I 2024-01-01 08:57:35,044] Trial 0 finished with value: -185.71703226814407 and parameters: {'gamma': 0.00527946089851456, 'learning_rate_exp': -2.369011773355079, 'max_grad_norm': 3.5955466505396703, 'n_epochs': 8, 'exponent_n_steps': 10}. Best is trial 0 with value: -185.71703226814407.\n",
            "2024-01-01 08:57:35,047 [INFO   ] sample_ppo_params() 1\n",
            "Params:{'ent_coef': 0.01, 'n_steps': 1024, 'gamma': 0.9976380997001132, 'learning_rate': 0.0005889454088486329, 'max_grad_norm': 0.5438930126245509, 'n_epochs': 2, 'batch_size': 64}\n"
          ]
        },
        {
          "output_type": "stream",
          "name": "stdout",
          "text": [
            "objective started trial:1.\n"
          ]
        },
        {
          "output_type": "stream",
          "name": "stderr",
          "text": [
            "2024-01-01 08:59:19,161 [DEBUG  ] Num steps:50000 current_lr:0.00037118249628686947 new_lr:0.00035262337147252596\n",
            "2024-01-01 09:01:45,950 [DEBUG  ] Num steps:100000 current_lr:0.000222240671725661 new_lr:0.00021112863813937794\n",
            "2024-01-01 09:04:22,531 [DEBUG  ] Num steps:150000 current_lr:0.00013306369956330355 new_lr:0.00012641051458513837\n",
            "2024-01-01 09:07:07,463 [DEBUG  ] Num steps:200000 current_lr:7.967015220026753e-05 new_lr:7.568664459025415e-05\n",
            "2024-01-01 09:09:50,966 [DEBUG  ] Num steps:250000 current_lr:4.770146307704395e-05 new_lr:4.531638992319175e-05\n",
            "2024-01-01 09:12:03,686 [DEBUG  ] Num steps:300000 current_lr:2.856062799994182e-05 new_lr:2.713259659994473e-05\n",
            "2024-01-01 09:12:11,255 [INFO   ] objective: trial:1\n",
            "Mean reward:132.43273125000002 std_reward:113.80482462081112 result:18.6279066291889\n",
            "2024-01-01 09:12:11,266 [INFO   ] Saved best model to file:LunarLander-v2.model\n",
            "[I 2024-01-01 09:12:11,267] Trial 1 finished with value: 18.6279066291889 and parameters: {'gamma': 0.002361900299886786, 'learning_rate_exp': -3.229924959431198, 'max_grad_norm': 0.5438930126245509, 'n_epochs': 2, 'exponent_n_steps': 10}. Best is trial 1 with value: 18.6279066291889.\n",
            "2024-01-01 09:12:11,272 [INFO   ] sample_ppo_params() 2\n",
            "Params:{'ent_coef': 0.01, 'n_steps': 2048, 'gamma': 0.9989976217913903, 'learning_rate': 0.00015111783321786478, 'max_grad_norm': 8.277093251525887, 'n_epochs': 10, 'batch_size': 64}\n"
          ]
        },
        {
          "output_type": "stream",
          "name": "stdout",
          "text": [
            "objective started trial:2.\n"
          ]
        },
        {
          "output_type": "stream",
          "name": "stderr",
          "text": [
            "2024-01-01 09:14:31,400 [DEBUG  ] Num steps:50000 current_lr:9.524192518442121e-05 new_lr:9.047982892520015e-05\n",
            "2024-01-01 09:17:30,046 [DEBUG  ] Num steps:100000 current_lr:5.7024858772091025e-05 new_lr:5.417361583348647e-05\n",
            "2024-01-01 09:20:34,314 [DEBUG  ] Num steps:150000 current_lr:3.414288940170259e-05 new_lr:3.243574493161746e-05\n",
            "2024-01-01 09:23:22,251 [DEBUG  ] Num steps:200000 current_lr:2.0442609097129886e-05 new_lr:1.942047864227339e-05\n",
            "2024-01-01 09:25:58,078 [DEBUG  ] Num steps:250000 current_lr:1.2239745200862183e-05 new_lr:1.1627757940819074e-05\n",
            "2024-01-01 09:28:38,157 [DEBUG  ] Num steps:300000 current_lr:7.3283875786218565e-06 new_lr:6.961968199690763e-06\n",
            "2024-01-01 09:28:51,233 [INFO   ] objective: trial:2\n",
            "Mean reward:154.44373775 std_reward:81.70893608548222 result:72.73480166451778\n",
            "2024-01-01 09:28:51,246 [INFO   ] Saved best model to file:LunarLander-v2.model\n",
            "[I 2024-01-01 09:28:51,249] Trial 2 finished with value: 72.73480166451778 and parameters: {'gamma': 0.0010023782086097555, 'learning_rate_exp': -3.820684282112898, 'max_grad_norm': 8.277093251525887, 'n_epochs': 10, 'exponent_n_steps': 11}. Best is trial 2 with value: 72.73480166451778.\n",
            "2024-01-01 09:28:51,271 [INFO   ] sample_ppo_params() 3\n",
            "Params:{'ent_coef': 0.01, 'n_steps': 8192, 'gamma': 0.9998115037923906, 'learning_rate': 0.00017276654485501156, 'max_grad_norm': 9.408089371207033, 'n_epochs': 16, 'batch_size': 64}\n"
          ]
        },
        {
          "output_type": "stream",
          "name": "stdout",
          "text": [
            "objective started trial:3.\n"
          ]
        },
        {
          "output_type": "stream",
          "name": "stderr",
          "text": [
            "2024-01-01 09:31:11,515 [DEBUG  ] Num steps:50000 current_lr:0.00010888601291503123 new_lr:0.00010344171226927966\n",
            "2024-01-01 09:34:08,869 [DEBUG  ] Num steps:100000 current_lr:6.519407809861636e-05 new_lr:6.193437419368554e-05\n",
            "2024-01-01 09:37:19,366 [DEBUG  ] Num steps:150000 current_lr:3.903410277723337e-05 new_lr:3.70823976383717e-05\n",
            "2024-01-01 09:40:24,352 [DEBUG  ] Num steps:200000 current_lr:2.3371159222757002e-05 new_lr:2.2202601261619152e-05\n",
            "2024-01-01 09:43:29,237 [DEBUG  ] Num steps:250000 current_lr:1.3993176339486334e-05 new_lr:1.3293517522512017e-05\n",
            "2024-01-01 09:46:18,223 [DEBUG  ] Num steps:300000 current_lr:8.378231571726947e-06 new_lr:7.959319993140598e-06\n",
            "2024-01-01 09:46:38,721 [INFO   ] objective: trial:3\n",
            "Mean reward:190.6948345 std_reward:89.18296582521033 result:101.51186867478968\n",
            "2024-01-01 09:46:38,735 [INFO   ] Saved best model to file:LunarLander-v2.model\n",
            "[I 2024-01-01 09:46:38,738] Trial 3 finished with value: 101.51186867478968 and parameters: {'gamma': 0.00018849620760940847, 'learning_rate_exp': -3.76254035208589, 'max_grad_norm': 9.408089371207033, 'n_epochs': 16, 'exponent_n_steps': 13}. Best is trial 3 with value: 101.51186867478968.\n",
            "2024-01-01 09:46:38,778 [INFO   ] sample_ppo_params() 4\n",
            "Params:{'ent_coef': 0.01, 'n_steps': 8192, 'gamma': 0.9998955922221738, 'learning_rate': 0.07971460870131368, 'max_grad_norm': 1.244642099240257, 'n_epochs': 16, 'batch_size': 64}\n"
          ]
        },
        {
          "output_type": "stream",
          "name": "stdout",
          "text": [
            "objective started trial:4.\n"
          ]
        },
        {
          "output_type": "stream",
          "name": "stderr",
          "text": [
            "2024-01-01 09:48:59,416 [DEBUG  ] Num steps:50000 current_lr:0.05024008508043113 new_lr:0.04772808082640957\n",
            "2024-01-01 09:51:18,709 [DEBUG  ] Num steps:100000 current_lr:0.030080594768133066 new_lr:0.02857656502972641\n",
            "[I 2024-01-01 09:51:18,710] Trial 4 pruned. \n",
            "2024-01-01 09:51:18,735 [INFO   ] sample_ppo_params() 5\n",
            "Params:{'ent_coef': 0.01, 'n_steps': 64, 'gamma': 0.885997548922207, 'learning_rate': 0.003053843932869535, 'max_grad_norm': 9.84857440545547, 'n_epochs': 16, 'batch_size': 64}\n"
          ]
        },
        {
          "output_type": "stream",
          "name": "stdout",
          "text": [
            "objective started trial:5.\n"
          ]
        },
        {
          "output_type": "stream",
          "name": "stderr",
          "text": [
            "2024-01-01 09:54:19,114 [DEBUG  ] Num steps:50000 current_lr:0.0019246833360821033 new_lr:0.001828449169277998\n",
            "2024-01-01 09:57:37,005 [DEBUG  ] Num steps:100000 current_lr:0.0011523790096489104 new_lr:0.0010947600591664649\n",
            "2024-01-01 10:00:28,654 [DEBUG  ] Num steps:150000 current_lr:0.0006899718810797425 new_lr:0.0006554732870257553\n",
            "[I 2024-01-01 10:00:28,655] Trial 5 pruned. \n",
            "2024-01-01 10:00:28,680 [INFO   ] sample_ppo_params() 6\n",
            "Params:{'ent_coef': 0.01, 'n_steps': 8192, 'gamma': 0.9998797663819543, 'learning_rate': 0.0001228468921929742, 'max_grad_norm': 2.5433164699237056, 'n_epochs': 11, 'batch_size': 64}\n"
          ]
        },
        {
          "output_type": "stream",
          "name": "stdout",
          "text": [
            "objective started trial:6.\n"
          ]
        },
        {
          "output_type": "stream",
          "name": "stderr",
          "text": [
            "2024-01-01 10:02:37,216 [DEBUG  ] Num steps:50000 current_lr:7.742418129112467e-05 new_lr:7.355297222656843e-05\n",
            "2024-01-01 10:04:56,117 [DEBUG  ] Num steps:100000 current_lr:4.635671732928532e-05 new_lr:4.4038881462821056e-05\n",
            "[I 2024-01-01 10:04:56,118] Trial 6 pruned. \n",
            "2024-01-01 10:04:56,144 [INFO   ] sample_ppo_params() 7\n",
            "Params:{'ent_coef': 0.01, 'n_steps': 128, 'gamma': 0.9834082151281215, 'learning_rate': 0.00178368113150837, 'max_grad_norm': 0.35929037256222, 'n_epochs': 13, 'batch_size': 64}\n"
          ]
        },
        {
          "output_type": "stream",
          "name": "stdout",
          "text": [
            "objective started trial:7.\n"
          ]
        },
        {
          "output_type": "stream",
          "name": "stderr",
          "text": [
            "2024-01-01 10:07:43,106 [DEBUG  ] Num steps:50000 current_lr:0.001124163980270073 new_lr:0.0010679557812565694\n",
            "2024-01-01 10:10:36,211 [DEBUG  ] Num steps:100000 current_lr:0.0006730785007489366 new_lr:0.0006394245757114897\n",
            "2024-01-01 10:13:27,877 [DEBUG  ] Num steps:150000 current_lr:0.0004029969614055751 new_lr:0.0003828471133352963\n",
            "2024-01-01 10:16:33,161 [DEBUG  ] Num steps:200000 current_lr:0.000241289167194341 new_lr:0.00022922470883462393\n",
            "2024-01-01 10:19:34,886 [DEBUG  ] Num steps:250000 current_lr:0.00014446873743731713 new_lr:0.00013724530056545128\n",
            "2024-01-01 10:22:19,214 [DEBUG  ] Num steps:300000 current_lr:8.649876966885222e-05 new_lr:8.21738311854096e-05\n",
            "2024-01-01 10:22:27,846 [INFO   ] objective: trial:7\n",
            "Mean reward:11.504465375000002 std_reward:135.15946429080367 result:-123.65499891580367\n",
            "[I 2024-01-01 10:22:27,849] Trial 7 finished with value: -123.65499891580367 and parameters: {'gamma': 0.01659178487187847, 'learning_rate_exp': -2.7486827818006527, 'max_grad_norm': 0.35929037256222, 'n_epochs': 13, 'exponent_n_steps': 7}. Best is trial 3 with value: 101.51186867478968.\n",
            "2024-01-01 10:22:27,886 [INFO   ] sample_ppo_params() 8\n",
            "Params:{'ent_coef': 0.01, 'n_steps': 256, 'gamma': 0.9994760582213342, 'learning_rate': 0.023664003815159387, 'max_grad_norm': 5.176977462397436, 'n_epochs': 6, 'batch_size': 64}\n"
          ]
        },
        {
          "output_type": "stream",
          "name": "stdout",
          "text": [
            "objective started trial:8.\n"
          ]
        },
        {
          "output_type": "stream",
          "name": "stderr",
          "text": [
            "2024-01-01 10:24:12,956 [DEBUG  ] Num steps:50000 current_lr:0.014914224436225103 new_lr:0.014168513214413847\n",
            "2024-01-01 10:25:59,462 [DEBUG  ] Num steps:100000 current_lr:0.008929697090059651 new_lr:0.008483212235556668\n",
            "[I 2024-01-01 10:25:59,464] Trial 8 pruned. \n",
            "2024-01-01 10:25:59,490 [INFO   ] sample_ppo_params() 9\n",
            "Params:{'ent_coef': 0.01, 'n_steps': 4096, 'gamma': 0.9691463124036962, 'learning_rate': 0.00048030196933375707, 'max_grad_norm': 1.4462312789485925, 'n_epochs': 13, 'batch_size': 64}\n"
          ]
        },
        {
          "output_type": "stream",
          "name": "stdout",
          "text": [
            "objective started trial:9.\n"
          ]
        },
        {
          "output_type": "stream",
          "name": "stderr",
          "text": [
            "2024-01-01 10:28:24,255 [DEBUG  ] Num steps:50000 current_lr:0.0003027100326621677 new_lr:0.0002875745310290593\n",
            "2024-01-01 10:31:39,522 [DEBUG  ] Num steps:100000 current_lr:0.00018124367843289592 new_lr:0.0001721814945112511\n",
            "2024-01-01 10:34:57,618 [DEBUG  ] Num steps:150000 current_lr:0.00010851728528121704 new_lr:0.00010309142101715619\n",
            "[I 2024-01-01 10:34:57,619] Trial 9 pruned. \n",
            "2024-01-01 10:34:57,623 [INFO   ] indx_trial:0 indx_guess:0: using guessed params.\n",
            "2024-01-01 10:34:57,624 [INFO   ] sample_ppo_params() 10\n",
            "Params:{'ent_coef': 0.01, 'n_steps': 4096, 'gamma': 0.9983382684783582, 'learning_rate': 0.002078923775963909, 'max_grad_norm': 0.3733377073391161, 'n_epochs': 5, 'batch_size': 64}\n"
          ]
        },
        {
          "output_type": "stream",
          "name": "stdout",
          "text": [
            "objective started trial:10.\n"
          ]
        },
        {
          "output_type": "stream",
          "name": "stderr",
          "text": [
            "2024-01-01 10:36:52,818 [DEBUG  ] Num steps:50000 current_lr:0.0013102404826637094 new_lr:0.001244728458530524\n",
            "2024-01-01 10:39:22,393 [DEBUG  ] Num steps:100000 current_lr:0.0007844893762562853 new_lr:0.000745264907443471\n",
            "2024-01-01 10:41:40,799 [DEBUG  ] Num steps:150000 current_lr:0.000469702768004713 new_lr:0.00044621762960447733\n",
            "2024-01-01 10:43:48,589 [DEBUG  ] Num steps:200000 current_lr:0.0002812283976669362 new_lr:0.00026716697778358933\n",
            "2024-01-01 10:45:44,066 [DEBUG  ] Num steps:250000 current_lr:0.00016838183004601494 new_lr:0.00015996273854371418\n",
            "2024-01-01 10:47:39,980 [DEBUG  ] Num steps:300000 current_lr:0.00010081642154510783 new_lr:9.577560046785243e-05\n",
            "2024-01-01 10:47:48,362 [INFO   ] objective: trial:10\n",
            "Mean reward:261.104244375 std_reward:21.36077974698145 result:239.74346462801856\n",
            "2024-01-01 10:47:48,378 [INFO   ] Saved best model to file:LunarLander-v2.model\n",
            "[I 2024-01-01 10:47:48,383] Trial 10 finished with value: 239.74346462801856 and parameters: {}. Best is trial 10 with value: 239.74346462801856.\n",
            "2024-01-01 10:47:48,385 [INFO   ] indx_trial:1 indx_guess:1: using guessed params.\n",
            "2024-01-01 10:47:48,386 [INFO   ] sample_ppo_params() 11\n",
            "Params:{'ent_coef': 0.01, 'n_steps': 4096, 'gamma': 0.9998946589040439, 'learning_rate': 0.0018245847679790683, 'max_grad_norm': 0.30386280137092286, 'n_epochs': 5, 'batch_size': 64}\n"
          ]
        },
        {
          "output_type": "stream",
          "name": "stdout",
          "text": [
            "objective started trial:11.\n"
          ]
        },
        {
          "output_type": "stream",
          "name": "stderr",
          "text": [
            "2024-01-01 10:49:40,434 [DEBUG  ] Num steps:50000 current_lr:0.0011499434730113207 new_lr:0.0010924462993607547\n",
            "2024-01-01 10:51:56,630 [DEBUG  ] Num steps:100000 current_lr:0.0006885136353279492 new_lr:0.0006540879535615517\n",
            "2024-01-01 10:54:17,026 [DEBUG  ] Num steps:150000 current_lr:0.0004122385466401455 new_lr:0.00039162661930813825\n",
            "2024-01-01 10:56:22,089 [DEBUG  ] Num steps:200000 current_lr:0.0002468224456513983 new_lr:0.00023448132336882836\n",
            "2024-01-01 10:58:27,222 [DEBUG  ] Num steps:250000 current_lr:0.00014778171564464927 new_lr:0.0001403926298624168\n",
            "2024-01-01 11:00:52,395 [DEBUG  ] Num steps:300000 current_lr:8.848237210047371e-05 new_lr:8.405825349545001e-05\n",
            "2024-01-01 11:01:03,166 [INFO   ] objective: trial:11\n",
            "Mean reward:236.09613437500002 std_reward:23.615464983534384 result:212.48066939146563\n",
            "[I 2024-01-01 11:01:03,167] Trial 11 finished with value: 212.48066939146563 and parameters: {}. Best is trial 10 with value: 239.74346462801856.\n",
            "2024-01-01 11:01:03,193 [INFO   ] sample_ppo_params() 12\n",
            "Params:{'ent_coef': 0.01, 'n_steps': 256, 'gamma': 0.8085761369052744, 'learning_rate': 0.012234719918507487, 'max_grad_norm': 0.7486581628338929, 'n_epochs': 2, 'batch_size': 64}\n"
          ]
        },
        {
          "output_type": "stream",
          "name": "stdout",
          "text": [
            "objective started trial:12.\n"
          ]
        },
        {
          "output_type": "stream",
          "name": "stderr",
          "text": [
            "2024-01-01 11:03:01,751 [DEBUG  ] Num steps:50000 current_lr:0.00771092500678526 new_lr:0.0073253787564459966\n",
            "2024-01-01 11:05:07,764 [DEBUG  ] Num steps:100000 current_lr:0.00461681563725928 new_lr:0.004385974855396315\n",
            "2024-01-01 11:07:25,028 [DEBUG  ] Num steps:150000 current_lr:0.0027642580636805052 new_lr:0.00262604516049648\n",
            "2024-01-01 11:09:47,846 [DEBUG  ] Num steps:200000 current_lr:0.001655063412313073 new_lr:0.0015723102416974194\n",
            "[I 2024-01-01 11:09:47,848] Trial 12 pruned. \n",
            "2024-01-01 11:09:47,873 [INFO   ] sample_ppo_params() 13\n",
            "Params:{'ent_coef': 0.01, 'n_steps': 512, 'gamma': 0.9780240813846404, 'learning_rate': 0.07042914605671688, 'max_grad_norm': 0.30581906003766074, 'n_epochs': 5, 'batch_size': 64}\n"
          ]
        },
        {
          "output_type": "stream",
          "name": "stdout",
          "text": [
            "objective started trial:13.\n"
          ]
        },
        {
          "output_type": "stream",
          "name": "stderr",
          "text": [
            "2024-01-01 11:11:35,576 [DEBUG  ] Num steps:50000 current_lr:0.0443879277296541 new_lr:0.042168531343171396\n",
            "2024-01-01 11:13:23,832 [DEBUG  ] Num steps:100000 current_lr:0.026576691987987455 new_lr:0.02524785738858808\n",
            "[I 2024-01-01 11:13:23,838] Trial 13 pruned. \n",
            "2024-01-01 11:13:23,879 [INFO   ] sample_ppo_params() 14\n",
            "Params:{'ent_coef': 0.01, 'n_steps': 64, 'gamma': 0.9950884133596364, 'learning_rate': 0.01333255801499181, 'max_grad_norm': 0.882705758055199, 'n_epochs': 5, 'batch_size': 64}\n"
          ]
        },
        {
          "output_type": "stream",
          "name": "stdout",
          "text": [
            "objective started trial:14.\n"
          ]
        },
        {
          "output_type": "stream",
          "name": "stderr",
          "text": [
            "2024-01-01 11:14:59,126 [DEBUG  ] Num steps:50000 current_lr:0.008402836819067694 new_lr:0.007982694978114309\n",
            "2024-01-01 11:16:36,910 [DEBUG  ] Num steps:100000 current_lr:0.005031088797968144 new_lr:0.004779534358069736\n",
            "[I 2024-01-01 11:16:36,911] Trial 14 pruned. \n",
            "2024-01-01 11:16:36,940 [INFO   ] sample_ppo_params() 15\n",
            "Params:{'ent_coef': 0.01, 'n_steps': 2048, 'gamma': 0.9382530456038103, 'learning_rate': 0.001072883121540603, 'max_grad_norm': 2.633769169742853, 'n_epochs': 8, 'batch_size': 64}\n"
          ]
        },
        {
          "output_type": "stream",
          "name": "stdout",
          "text": [
            "objective started trial:15.\n"
          ]
        },
        {
          "output_type": "stream",
          "name": "stderr",
          "text": [
            "2024-01-01 11:19:14,065 [DEBUG  ] Num steps:50000 current_lr:0.000676183954054461 new_lr:0.0006423747563517379\n",
            "2024-01-01 11:22:17,951 [DEBUG  ] Num steps:100000 current_lr:0.0004048563110126723 new_lr:0.00038461349546203865\n",
            "[I 2024-01-01 11:22:17,954] Trial 15 pruned. \n",
            "2024-01-01 11:22:17,993 [INFO   ] sample_ppo_params() 16\n",
            "Params:{'ent_coef': 0.01, 'n_steps': 256, 'gamma': 0.9992316651224186, 'learning_rate': 0.006802549124490447, 'max_grad_norm': 5.6745789912337345, 'n_epochs': 12, 'batch_size': 64}\n"
          ]
        },
        {
          "output_type": "stream",
          "name": "stdout",
          "text": [
            "objective started trial:16.\n"
          ]
        },
        {
          "output_type": "stream",
          "name": "stderr",
          "text": [
            "2024-01-01 11:24:43,927 [DEBUG  ] Num steps:50000 current_lr:0.004287302570332762 new_lr:0.004072937441816123\n",
            "2024-01-01 11:27:05,661 [DEBUG  ] Num steps:100000 current_lr:0.002566966418549871 new_lr:0.0024386180976223772\n",
            "2024-01-01 11:29:48,364 [DEBUG  ] Num steps:150000 current_lr:0.0015369376165702523 new_lr:0.0014600907357417395\n",
            "2024-01-01 11:32:57,442 [DEBUG  ] Num steps:200000 current_lr:0.0009202213243456015 new_lr:0.0008742102581283214\n",
            "2024-01-01 11:36:07,111 [DEBUG  ] Num steps:250000 current_lr:0.0005509704991605728 new_lr:0.0005234219742025442\n",
            "[I 2024-01-01 11:36:07,114] Trial 16 pruned. \n",
            "2024-01-01 11:36:07,157 [INFO   ] sample_ppo_params() 17\n",
            "Params:{'ent_coef': 0.01, 'n_steps': 512, 'gamma': 0.9887605802100042, 'learning_rate': 0.041062969203816975, 'max_grad_norm': 2.2138314268768258, 'n_epochs': 14, 'batch_size': 64}\n"
          ]
        },
        {
          "output_type": "stream",
          "name": "stdout",
          "text": [
            "objective started trial:17.\n"
          ]
        },
        {
          "output_type": "stream",
          "name": "stderr",
          "text": [
            "2024-01-01 11:38:13,255 [DEBUG  ] Num steps:50000 current_lr:0.02587991210224545 new_lr:0.024585916497133178\n",
            "2024-01-01 11:40:20,228 [DEBUG  ] Num steps:100000 current_lr:0.015495259359856711 new_lr:0.014720496391863874\n",
            "[I 2024-01-01 11:40:20,230] Trial 17 pruned. \n",
            "2024-01-01 11:40:20,256 [INFO   ] sample_ppo_params() 18\n",
            "Params:{'ent_coef': 0.01, 'n_steps': 2048, 'gamma': 0.997517902659764, 'learning_rate': 0.00044934551152521056, 'max_grad_norm': 0.48990024871458937, 'n_epochs': 7, 'batch_size': 64}\n"
          ]
        },
        {
          "output_type": "stream",
          "name": "stdout",
          "text": [
            "objective started trial:18.\n"
          ]
        },
        {
          "output_type": "stream",
          "name": "stderr",
          "text": [
            "2024-01-01 11:42:32,831 [DEBUG  ] Num steps:50000 current_lr:0.00028319974340116656 new_lr:0.0002690397562311082\n",
            "2024-01-01 11:45:03,579 [DEBUG  ] Num steps:100000 current_lr:0.00016956214755710868 new_lr:0.00016108404017925324\n",
            "2024-01-01 11:47:21,169 [DEBUG  ] Num steps:150000 current_lr:0.0001015231212390296 new_lr:9.644696517707812e-05\n",
            "2024-01-01 11:49:31,889 [DEBUG  ] Num steps:200000 current_lr:6.0785642872583416e-05 new_lr:5.774636072895424e-05\n",
            "2024-01-01 11:51:40,394 [DEBUG  ] Num steps:250000 current_lr:3.639460976316776e-05 new_lr:3.457487927500937e-05\n",
            "2024-01-01 11:53:45,629 [DEBUG  ] Num steps:300000 current_lr:2.179079725437428e-05 new_lr:2.0701257391655567e-05\n",
            "2024-01-01 11:53:51,988 [INFO   ] objective: trial:18\n",
            "Mean reward:179.254605 std_reward:105.82060098979024 result:73.43400401020976\n",
            "[I 2024-01-01 11:53:51,989] Trial 18 finished with value: 73.43400401020976 and parameters: {'gamma': 0.0024820973402359973, 'learning_rate_exp': -3.3474195920829857, 'max_grad_norm': 0.48990024871458937, 'n_epochs': 7, 'exponent_n_steps': 11}. Best is trial 10 with value: 239.74346462801856.\n",
            "2024-01-01 11:53:52,018 [INFO   ] sample_ppo_params() 19\n",
            "Params:{'ent_coef': 0.01, 'n_steps': 128, 'gamma': 0.9996997709124329, 'learning_rate': 0.0015377144392008028, 'max_grad_norm': 1.0051352893225958, 'n_epochs': 3, 'batch_size': 64}\n"
          ]
        },
        {
          "output_type": "stream",
          "name": "stdout",
          "text": [
            "objective started trial:19.\n"
          ]
        },
        {
          "output_type": "stream",
          "name": "stderr",
          "text": [
            "2024-01-01 11:55:55,724 [DEBUG  ] Num steps:50000 current_lr:0.0009691436176313144 new_lr:0.0009206864367497487\n",
            "2024-01-01 11:57:41,956 [DEBUG  ] Num steps:100000 current_lr:0.0005802620833029829 new_lr:0.0005512489791378337\n",
            "2024-01-01 11:59:53,102 [DEBUG  ] Num steps:150000 current_lr:0.0003474243437129131 new_lr:0.0003300531265272674\n",
            "2024-01-01 12:02:32,840 [DEBUG  ] Num steps:200000 current_lr:0.00020801578817157204 new_lr:0.00019761499876299343\n",
            "[I 2024-01-01 12:02:32,842] Trial 19 pruned. \n",
            "2024-01-01 12:02:32,867 [INFO   ] sample_ppo_params() 20\n",
            "Params:{'ent_coef': 0.01, 'n_steps': 4096, 'gamma': 0.9529737362916497, 'learning_rate': 0.00028373088354208026, 'max_grad_norm': 4.000835744169026, 'n_epochs': 10, 'batch_size': 64}\n"
          ]
        },
        {
          "output_type": "stream",
          "name": "stdout",
          "text": [
            "objective started trial:20.\n"
          ]
        },
        {
          "output_type": "stream",
          "name": "stderr",
          "text": [
            "2024-01-01 12:04:43,646 [DEBUG  ] Num steps:50000 current_lr:0.00017882122187303791 new_lr:0.000169880160779386\n",
            "2024-01-01 12:07:44,062 [DEBUG  ] Num steps:100000 current_lr:0.0001070668710551297 new_lr:0.00010171352750237321\n",
            "[I 2024-01-01 12:07:44,064] Trial 20 pruned. \n",
            "2024-01-01 12:07:44,090 [INFO   ] sample_ppo_params() 21\n",
            "Params:{'ent_coef': 0.01, 'n_steps': 4096, 'gamma': 0.999609498841779, 'learning_rate': 0.0001742992017636454, 'max_grad_norm': 7.501070844118849, 'n_epochs': 15, 'batch_size': 64}\n"
          ]
        },
        {
          "output_type": "stream",
          "name": "stdout",
          "text": [
            "objective started trial:21.\n"
          ]
        },
        {
          "output_type": "stream",
          "name": "stderr",
          "text": [
            "2024-01-01 12:10:07,645 [DEBUG  ] Num steps:50000 current_lr:0.00010985196902700808 new_lr:0.00010435937057565767\n",
            "2024-01-01 12:13:06,462 [DEBUG  ] Num steps:100000 current_lr:6.577243170453997e-05 new_lr:6.248381011931297e-05\n",
            "2024-01-01 12:15:55,620 [DEBUG  ] Num steps:150000 current_lr:3.9380384445041556e-05 new_lr:3.7411365222789475e-05\n",
            "2024-01-01 12:18:29,994 [DEBUG  ] Num steps:200000 current_lr:2.357849084865484e-05 new_lr:2.2399566306222097e-05\n",
            "2024-01-01 12:21:06,844 [DEBUG  ] Num steps:250000 current_lr:1.411731344258372e-05 new_lr:1.3411447770454533e-05\n",
            "2024-01-01 12:23:51,545 [DEBUG  ] Num steps:300000 current_lr:8.452557040881393e-06 new_lr:8.029929188837324e-06\n",
            "2024-01-01 12:24:04,424 [INFO   ] objective: trial:21\n",
            "Mean reward:254.1390525 std_reward:19.502405953956803 result:234.63664654604318\n",
            "[I 2024-01-01 12:24:04,426] Trial 21 finished with value: 234.63664654604318 and parameters: {'gamma': 0.0003905011582210037, 'learning_rate_exp': -3.758704601819656, 'max_grad_norm': 7.501070844118849, 'n_epochs': 15, 'exponent_n_steps': 12}. Best is trial 10 with value: 239.74346462801856.\n",
            "2024-01-01 12:24:04,468 [INFO   ] sample_ppo_params() 22\n",
            "Params:{'ent_coef': 0.01, 'n_steps': 4096, 'gamma': 0.9983756099689807, 'learning_rate': 0.0008442569351260245, 'max_grad_norm': 5.970342247458968, 'n_epochs': 14, 'batch_size': 64}\n"
          ]
        },
        {
          "output_type": "stream",
          "name": "stdout",
          "text": [
            "objective started trial:22.\n"
          ]
        },
        {
          "output_type": "stream",
          "name": "stderr",
          "text": [
            "2024-01-01 12:26:44,261 [DEBUG  ] Num steps:50000 current_lr:0.0005320924350190845 new_lr:0.0005054878132681302\n",
            "2024-01-01 12:29:33,222 [DEBUG  ] Num steps:100000 current_lr:0.00031858339593522254 new_lr:0.0003026542261384614\n",
            "2024-01-01 12:32:15,155 [DEBUG  ] Num steps:150000 current_lr:0.00019074764737442363 new_lr:0.00018121026500570245\n",
            "2024-01-01 12:34:59,309 [DEBUG  ] Num steps:200000 current_lr:0.00011420766255588396 new_lr:0.00010849727942808976\n",
            "2024-01-01 12:37:41,715 [DEBUG  ] Num steps:250000 current_lr:6.838034631627956e-05 new_lr:6.496132900046557e-05\n",
            "2024-01-01 12:40:20,667 [DEBUG  ] Num steps:300000 current_lr:4.0941839257469564e-05 new_lr:3.889474729459608e-05\n",
            "2024-01-01 12:40:35,563 [INFO   ] objective: trial:22\n",
            "Mean reward:215.149437875 std_reward:53.2343373591899 result:161.91510051581008\n",
            "[I 2024-01-01 12:40:35,565] Trial 22 finished with value: 161.91510051581008 and parameters: {'gamma': 0.0016243900310192799, 'learning_rate_exp': -3.0735253631774864, 'max_grad_norm': 5.970342247458968, 'n_epochs': 14, 'exponent_n_steps': 12}. Best is trial 10 with value: 239.74346462801856.\n",
            "2024-01-01 12:40:35,592 [INFO   ] sample_ppo_params() 23\n",
            "Params:{'ent_coef': 0.01, 'n_steps': 1024, 'gamma': 0.9996111516295128, 'learning_rate': 0.0031627629401167366, 'max_grad_norm': 1.7607018859102785, 'n_epochs': 14, 'batch_size': 64}\n"
          ]
        },
        {
          "output_type": "stream",
          "name": "stdout",
          "text": [
            "objective started trial:23.\n"
          ]
        },
        {
          "output_type": "stream",
          "name": "stderr",
          "text": [
            "2024-01-01 12:43:02,911 [DEBUG  ] Num steps:50000 current_lr:0.001993329476107443 new_lr:0.0018936630023020705\n",
            "2024-01-01 12:45:39,348 [DEBUG  ] Num steps:100000 current_lr:0.0011934799894182109 new_lr:0.0011338059899473002\n",
            "2024-01-01 12:48:08,812 [DEBUG  ] Num steps:150000 current_lr:0.0007145805559065118 new_lr:0.0006788515281111862\n",
            "[I 2024-01-01 12:48:08,814] Trial 23 pruned. \n",
            "2024-01-01 12:48:08,840 [INFO   ] sample_ppo_params() 24\n",
            "Params:{'ent_coef': 0.01, 'n_steps': 4096, 'gamma': 0.990154232513451, 'learning_rate': 0.0002501465694649141, 'max_grad_norm': 3.678972182557771, 'n_epochs': 9, 'batch_size': 64}\n"
          ]
        },
        {
          "output_type": "stream",
          "name": "stdout",
          "text": [
            "objective started trial:24.\n"
          ]
        },
        {
          "output_type": "stream",
          "name": "stderr",
          "text": [
            "2024-01-01 12:50:10,440 [DEBUG  ] Num steps:50000 current_lr:0.00015765472774989804 new_lr:0.00014977199136240313\n",
            "2024-01-01 12:52:48,249 [DEBUG  ] Num steps:100000 current_lr:9.439370914943381e-05 new_lr:8.967402369196211e-05\n",
            "[I 2024-01-01 12:52:48,251] Trial 24 pruned. \n",
            "2024-01-01 12:52:48,254 [INFO   ] Saved the study to the file: /content/opt_lunar_lander_study.pkl\n"
          ]
        }
      ],
      "source": [
        "import torch as th\n",
        "\n",
        "# Set pytorch num threads to 1 for faster training\n",
        "th.set_num_threads(1)\n",
        "\n",
        "# Select the sampler, can be random, TPESampler, CMAES, ...\n",
        "sampler = TPESampler(n_startup_trials=N_STARTUP_TRIALS)\n",
        "\n",
        "pruner = MedianPruner( n_startup_trials=N_STARTUP_TRIALS, n_warmup_steps=N_WARMUP_STEPS )\n",
        "\n",
        "# Create the study and start the hyperparameter optimization\n",
        "if not os.path.exists(SAVED_SNAPSHOT_FILE):\n",
        "  log.info('Started the study from scratch.')\n",
        "  study = optuna.create_study(sampler=sampler, pruner=pruner, direction=\"maximize\")\n",
        "else:\n",
        "  log.info(f'Resuming the study from the file: {SAVED_SNAPSHOT_FILE}')\n",
        "  snapshot_file = open(SAVED_SNAPSHOT_FILE, 'rb')\n",
        "  with open(SAVED_SNAPSHOT_FILE, 'rb') as snapshot_file:\n",
        "    study = pickle.load(snapshot_file)\n",
        "\n",
        "try:\n",
        "  study.optimize(objective, n_trials=N_TRIALS, n_jobs=N_JOBS, timeout=TIMEOUT)\n",
        "except Exception as e:\n",
        "  log.error(f'Exception during study: {e}')\n",
        "except KeyboardInterrupt:\n",
        "    pass\n",
        "\n",
        "snapshot_file = open(SAVED_SNAPSHOT_FILE, 'wb')\n",
        "pickle.dump(study, snapshot_file)\n",
        "snapshot_file.close()\n",
        "\n",
        "log.info(f'Saved the study to the file: {os.path.abspath(SAVED_SNAPSHOT_FILE)}')"
      ]
    },
    {
      "cell_type": "code",
      "source": [
        "# Write report\n",
        "study.trials_dataframe().to_csv(\"study_results_ppo_lunar_lander.csv\")"
      ],
      "metadata": {
        "id": "IZd29DKDYfwD",
        "colab": {
          "base_uri": "https://localhost:8080/"
        },
        "outputId": "8c2b6d4b-37f8-496e-a916-e22866517b1f"
      },
      "execution_count": 15,
      "outputs": [
        {
          "output_type": "stream",
          "name": "stderr",
          "text": [
            "/usr/local/lib/python3.10/dist-packages/ipykernel/ipkernel.py:283: DeprecationWarning: `should_run_async` will not call `transform_cell` automatically in the future. Please pass the result to `transformed_cell` argument and any exception that happen during thetransform in `preprocessing_exc_tuple` in IPython 7.17 and above.\n",
            "  and should_run_async(code)\n"
          ]
        }
      ]
    },
    {
      "cell_type": "code",
      "source": [
        "fig1 = plot_optimization_history(study)\n",
        "fig2 = plot_param_importances(study)\n",
        "fig3 = plot_intermediate_values(study)\n",
        "\n",
        "fig1.show()\n",
        "fig2.show()\n",
        "fig3.show()"
      ],
      "metadata": {
        "id": "XgTY4CXKX7S9",
        "colab": {
          "base_uri": "https://localhost:8080/",
          "height": 1000
        },
        "outputId": "e3ad2803-6856-41ef-cdbb-e5473b1bf94d"
      },
      "execution_count": 16,
      "outputs": [
        {
          "output_type": "stream",
          "name": "stderr",
          "text": [
            "/usr/local/lib/python3.10/dist-packages/ipykernel/ipkernel.py:283: DeprecationWarning: `should_run_async` will not call `transform_cell` automatically in the future. Please pass the result to `transformed_cell` argument and any exception that happen during thetransform in `preprocessing_exc_tuple` in IPython 7.17 and above.\n",
            "  and should_run_async(code)\n"
          ]
        },
        {
          "output_type": "display_data",
          "data": {
            "text/html": [
              "<html>\n",
              "<head><meta charset=\"utf-8\" /></head>\n",
              "<body>\n",
              "    <div>            <script src=\"https://cdnjs.cloudflare.com/ajax/libs/mathjax/2.7.5/MathJax.js?config=TeX-AMS-MML_SVG\"></script><script type=\"text/javascript\">if (window.MathJax && window.MathJax.Hub && window.MathJax.Hub.Config) {window.MathJax.Hub.Config({SVG: {font: \"STIX-Web\"}});}</script>                <script type=\"text/javascript\">window.PlotlyConfig = {MathJaxConfig: 'local'};</script>\n",
              "        <script charset=\"utf-8\" src=\"https://cdn.plot.ly/plotly-2.24.1.min.js\"></script>                <div id=\"773b8c28-4a7e-4289-91d2-fa3ce9444ab0\" class=\"plotly-graph-div\" style=\"height:525px; width:100%;\"></div>            <script type=\"text/javascript\">                                    window.PLOTLYENV=window.PLOTLYENV || {};                                    if (document.getElementById(\"773b8c28-4a7e-4289-91d2-fa3ce9444ab0\")) {                    Plotly.newPlot(                        \"773b8c28-4a7e-4289-91d2-fa3ce9444ab0\",                        [{\"mode\":\"markers\",\"name\":\"Objective Value\",\"x\":[0,1,2,3,7,10,11,18,21,22],\"y\":[-185.71703226814407,18.6279066291889,72.73480166451778,101.51186867478968,-123.65499891580367,239.74346462801856,212.48066939146563,73.43400401020976,234.63664654604318,161.91510051581008],\"type\":\"scatter\"},{\"mode\":\"lines\",\"name\":\"Best Value\",\"x\":[0,1,2,3,4,5,6,7,8,9,10,11,12,13,14,15,16,17,18,19,20,21,22,23,24],\"y\":[-185.71703226814407,18.6279066291889,72.73480166451778,101.51186867478968,101.51186867478968,101.51186867478968,101.51186867478968,101.51186867478968,101.51186867478968,101.51186867478968,239.74346462801856,239.74346462801856,239.74346462801856,239.74346462801856,239.74346462801856,239.74346462801856,239.74346462801856,239.74346462801856,239.74346462801856,239.74346462801856,239.74346462801856,239.74346462801856,239.74346462801856,239.74346462801856,239.74346462801856],\"type\":\"scatter\"},{\"marker\":{\"color\":\"#cccccc\"},\"mode\":\"markers\",\"name\":\"Infeasible Trial\",\"showlegend\":false,\"x\":[],\"y\":[],\"type\":\"scatter\"}],                        {\"title\":{\"text\":\"Optimization History Plot\"},\"xaxis\":{\"title\":{\"text\":\"Trial\"}},\"yaxis\":{\"title\":{\"text\":\"Objective Value\"}},\"template\":{\"data\":{\"histogram2dcontour\":[{\"type\":\"histogram2dcontour\",\"colorbar\":{\"outlinewidth\":0,\"ticks\":\"\"},\"colorscale\":[[0.0,\"#0d0887\"],[0.1111111111111111,\"#46039f\"],[0.2222222222222222,\"#7201a8\"],[0.3333333333333333,\"#9c179e\"],[0.4444444444444444,\"#bd3786\"],[0.5555555555555556,\"#d8576b\"],[0.6666666666666666,\"#ed7953\"],[0.7777777777777778,\"#fb9f3a\"],[0.8888888888888888,\"#fdca26\"],[1.0,\"#f0f921\"]]}],\"choropleth\":[{\"type\":\"choropleth\",\"colorbar\":{\"outlinewidth\":0,\"ticks\":\"\"}}],\"histogram2d\":[{\"type\":\"histogram2d\",\"colorbar\":{\"outlinewidth\":0,\"ticks\":\"\"},\"colorscale\":[[0.0,\"#0d0887\"],[0.1111111111111111,\"#46039f\"],[0.2222222222222222,\"#7201a8\"],[0.3333333333333333,\"#9c179e\"],[0.4444444444444444,\"#bd3786\"],[0.5555555555555556,\"#d8576b\"],[0.6666666666666666,\"#ed7953\"],[0.7777777777777778,\"#fb9f3a\"],[0.8888888888888888,\"#fdca26\"],[1.0,\"#f0f921\"]]}],\"heatmap\":[{\"type\":\"heatmap\",\"colorbar\":{\"outlinewidth\":0,\"ticks\":\"\"},\"colorscale\":[[0.0,\"#0d0887\"],[0.1111111111111111,\"#46039f\"],[0.2222222222222222,\"#7201a8\"],[0.3333333333333333,\"#9c179e\"],[0.4444444444444444,\"#bd3786\"],[0.5555555555555556,\"#d8576b\"],[0.6666666666666666,\"#ed7953\"],[0.7777777777777778,\"#fb9f3a\"],[0.8888888888888888,\"#fdca26\"],[1.0,\"#f0f921\"]]}],\"heatmapgl\":[{\"type\":\"heatmapgl\",\"colorbar\":{\"outlinewidth\":0,\"ticks\":\"\"},\"colorscale\":[[0.0,\"#0d0887\"],[0.1111111111111111,\"#46039f\"],[0.2222222222222222,\"#7201a8\"],[0.3333333333333333,\"#9c179e\"],[0.4444444444444444,\"#bd3786\"],[0.5555555555555556,\"#d8576b\"],[0.6666666666666666,\"#ed7953\"],[0.7777777777777778,\"#fb9f3a\"],[0.8888888888888888,\"#fdca26\"],[1.0,\"#f0f921\"]]}],\"contourcarpet\":[{\"type\":\"contourcarpet\",\"colorbar\":{\"outlinewidth\":0,\"ticks\":\"\"}}],\"contour\":[{\"type\":\"contour\",\"colorbar\":{\"outlinewidth\":0,\"ticks\":\"\"},\"colorscale\":[[0.0,\"#0d0887\"],[0.1111111111111111,\"#46039f\"],[0.2222222222222222,\"#7201a8\"],[0.3333333333333333,\"#9c179e\"],[0.4444444444444444,\"#bd3786\"],[0.5555555555555556,\"#d8576b\"],[0.6666666666666666,\"#ed7953\"],[0.7777777777777778,\"#fb9f3a\"],[0.8888888888888888,\"#fdca26\"],[1.0,\"#f0f921\"]]}],\"surface\":[{\"type\":\"surface\",\"colorbar\":{\"outlinewidth\":0,\"ticks\":\"\"},\"colorscale\":[[0.0,\"#0d0887\"],[0.1111111111111111,\"#46039f\"],[0.2222222222222222,\"#7201a8\"],[0.3333333333333333,\"#9c179e\"],[0.4444444444444444,\"#bd3786\"],[0.5555555555555556,\"#d8576b\"],[0.6666666666666666,\"#ed7953\"],[0.7777777777777778,\"#fb9f3a\"],[0.8888888888888888,\"#fdca26\"],[1.0,\"#f0f921\"]]}],\"mesh3d\":[{\"type\":\"mesh3d\",\"colorbar\":{\"outlinewidth\":0,\"ticks\":\"\"}}],\"scatter\":[{\"fillpattern\":{\"fillmode\":\"overlay\",\"size\":10,\"solidity\":0.2},\"type\":\"scatter\"}],\"parcoords\":[{\"type\":\"parcoords\",\"line\":{\"colorbar\":{\"outlinewidth\":0,\"ticks\":\"\"}}}],\"scatterpolargl\":[{\"type\":\"scatterpolargl\",\"marker\":{\"colorbar\":{\"outlinewidth\":0,\"ticks\":\"\"}}}],\"bar\":[{\"error_x\":{\"color\":\"#2a3f5f\"},\"error_y\":{\"color\":\"#2a3f5f\"},\"marker\":{\"line\":{\"color\":\"#E5ECF6\",\"width\":0.5},\"pattern\":{\"fillmode\":\"overlay\",\"size\":10,\"solidity\":0.2}},\"type\":\"bar\"}],\"scattergeo\":[{\"type\":\"scattergeo\",\"marker\":{\"colorbar\":{\"outlinewidth\":0,\"ticks\":\"\"}}}],\"scatterpolar\":[{\"type\":\"scatterpolar\",\"marker\":{\"colorbar\":{\"outlinewidth\":0,\"ticks\":\"\"}}}],\"histogram\":[{\"marker\":{\"pattern\":{\"fillmode\":\"overlay\",\"size\":10,\"solidity\":0.2}},\"type\":\"histogram\"}],\"scattergl\":[{\"type\":\"scattergl\",\"marker\":{\"colorbar\":{\"outlinewidth\":0,\"ticks\":\"\"}}}],\"scatter3d\":[{\"type\":\"scatter3d\",\"line\":{\"colorbar\":{\"outlinewidth\":0,\"ticks\":\"\"}},\"marker\":{\"colorbar\":{\"outlinewidth\":0,\"ticks\":\"\"}}}],\"scattermapbox\":[{\"type\":\"scattermapbox\",\"marker\":{\"colorbar\":{\"outlinewidth\":0,\"ticks\":\"\"}}}],\"scatterternary\":[{\"type\":\"scatterternary\",\"marker\":{\"colorbar\":{\"outlinewidth\":0,\"ticks\":\"\"}}}],\"scattercarpet\":[{\"type\":\"scattercarpet\",\"marker\":{\"colorbar\":{\"outlinewidth\":0,\"ticks\":\"\"}}}],\"carpet\":[{\"aaxis\":{\"endlinecolor\":\"#2a3f5f\",\"gridcolor\":\"white\",\"linecolor\":\"white\",\"minorgridcolor\":\"white\",\"startlinecolor\":\"#2a3f5f\"},\"baxis\":{\"endlinecolor\":\"#2a3f5f\",\"gridcolor\":\"white\",\"linecolor\":\"white\",\"minorgridcolor\":\"white\",\"startlinecolor\":\"#2a3f5f\"},\"type\":\"carpet\"}],\"table\":[{\"cells\":{\"fill\":{\"color\":\"#EBF0F8\"},\"line\":{\"color\":\"white\"}},\"header\":{\"fill\":{\"color\":\"#C8D4E3\"},\"line\":{\"color\":\"white\"}},\"type\":\"table\"}],\"barpolar\":[{\"marker\":{\"line\":{\"color\":\"#E5ECF6\",\"width\":0.5},\"pattern\":{\"fillmode\":\"overlay\",\"size\":10,\"solidity\":0.2}},\"type\":\"barpolar\"}],\"pie\":[{\"automargin\":true,\"type\":\"pie\"}]},\"layout\":{\"autotypenumbers\":\"strict\",\"colorway\":[\"#636efa\",\"#EF553B\",\"#00cc96\",\"#ab63fa\",\"#FFA15A\",\"#19d3f3\",\"#FF6692\",\"#B6E880\",\"#FF97FF\",\"#FECB52\"],\"font\":{\"color\":\"#2a3f5f\"},\"hovermode\":\"closest\",\"hoverlabel\":{\"align\":\"left\"},\"paper_bgcolor\":\"white\",\"plot_bgcolor\":\"#E5ECF6\",\"polar\":{\"bgcolor\":\"#E5ECF6\",\"angularaxis\":{\"gridcolor\":\"white\",\"linecolor\":\"white\",\"ticks\":\"\"},\"radialaxis\":{\"gridcolor\":\"white\",\"linecolor\":\"white\",\"ticks\":\"\"}},\"ternary\":{\"bgcolor\":\"#E5ECF6\",\"aaxis\":{\"gridcolor\":\"white\",\"linecolor\":\"white\",\"ticks\":\"\"},\"baxis\":{\"gridcolor\":\"white\",\"linecolor\":\"white\",\"ticks\":\"\"},\"caxis\":{\"gridcolor\":\"white\",\"linecolor\":\"white\",\"ticks\":\"\"}},\"coloraxis\":{\"colorbar\":{\"outlinewidth\":0,\"ticks\":\"\"}},\"colorscale\":{\"sequential\":[[0.0,\"#0d0887\"],[0.1111111111111111,\"#46039f\"],[0.2222222222222222,\"#7201a8\"],[0.3333333333333333,\"#9c179e\"],[0.4444444444444444,\"#bd3786\"],[0.5555555555555556,\"#d8576b\"],[0.6666666666666666,\"#ed7953\"],[0.7777777777777778,\"#fb9f3a\"],[0.8888888888888888,\"#fdca26\"],[1.0,\"#f0f921\"]],\"sequentialminus\":[[0.0,\"#0d0887\"],[0.1111111111111111,\"#46039f\"],[0.2222222222222222,\"#7201a8\"],[0.3333333333333333,\"#9c179e\"],[0.4444444444444444,\"#bd3786\"],[0.5555555555555556,\"#d8576b\"],[0.6666666666666666,\"#ed7953\"],[0.7777777777777778,\"#fb9f3a\"],[0.8888888888888888,\"#fdca26\"],[1.0,\"#f0f921\"]],\"diverging\":[[0,\"#8e0152\"],[0.1,\"#c51b7d\"],[0.2,\"#de77ae\"],[0.3,\"#f1b6da\"],[0.4,\"#fde0ef\"],[0.5,\"#f7f7f7\"],[0.6,\"#e6f5d0\"],[0.7,\"#b8e186\"],[0.8,\"#7fbc41\"],[0.9,\"#4d9221\"],[1,\"#276419\"]]},\"xaxis\":{\"gridcolor\":\"white\",\"linecolor\":\"white\",\"ticks\":\"\",\"title\":{\"standoff\":15},\"zerolinecolor\":\"white\",\"automargin\":true,\"zerolinewidth\":2},\"yaxis\":{\"gridcolor\":\"white\",\"linecolor\":\"white\",\"ticks\":\"\",\"title\":{\"standoff\":15},\"zerolinecolor\":\"white\",\"automargin\":true,\"zerolinewidth\":2},\"scene\":{\"xaxis\":{\"backgroundcolor\":\"#E5ECF6\",\"gridcolor\":\"white\",\"linecolor\":\"white\",\"showbackground\":true,\"ticks\":\"\",\"zerolinecolor\":\"white\",\"gridwidth\":2},\"yaxis\":{\"backgroundcolor\":\"#E5ECF6\",\"gridcolor\":\"white\",\"linecolor\":\"white\",\"showbackground\":true,\"ticks\":\"\",\"zerolinecolor\":\"white\",\"gridwidth\":2},\"zaxis\":{\"backgroundcolor\":\"#E5ECF6\",\"gridcolor\":\"white\",\"linecolor\":\"white\",\"showbackground\":true,\"ticks\":\"\",\"zerolinecolor\":\"white\",\"gridwidth\":2}},\"shapedefaults\":{\"line\":{\"color\":\"#2a3f5f\"}},\"annotationdefaults\":{\"arrowcolor\":\"#2a3f5f\",\"arrowhead\":0,\"arrowwidth\":1},\"geo\":{\"bgcolor\":\"white\",\"landcolor\":\"#E5ECF6\",\"subunitcolor\":\"white\",\"showland\":true,\"showlakes\":true,\"lakecolor\":\"white\"},\"title\":{\"x\":0.05},\"mapbox\":{\"style\":\"light\"}}}},                        {\"responsive\": true}                    ).then(function(){\n",
              "                            \n",
              "var gd = document.getElementById('773b8c28-4a7e-4289-91d2-fa3ce9444ab0');\n",
              "var x = new MutationObserver(function (mutations, observer) {{\n",
              "        var display = window.getComputedStyle(gd).display;\n",
              "        if (!display || display === 'none') {{\n",
              "            console.log([gd, 'removed!']);\n",
              "            Plotly.purge(gd);\n",
              "            observer.disconnect();\n",
              "        }}\n",
              "}});\n",
              "\n",
              "// Listen for the removal of the full notebook cells\n",
              "var notebookContainer = gd.closest('#notebook-container');\n",
              "if (notebookContainer) {{\n",
              "    x.observe(notebookContainer, {childList: true});\n",
              "}}\n",
              "\n",
              "// Listen for the clearing of the current output cell\n",
              "var outputEl = gd.closest('.output');\n",
              "if (outputEl) {{\n",
              "    x.observe(outputEl, {childList: true});\n",
              "}}\n",
              "\n",
              "                        })                };                            </script>        </div>\n",
              "</body>\n",
              "</html>"
            ]
          },
          "metadata": {}
        },
        {
          "output_type": "display_data",
          "data": {
            "text/html": [
              "<html>\n",
              "<head><meta charset=\"utf-8\" /></head>\n",
              "<body>\n",
              "    <div>            <script src=\"https://cdnjs.cloudflare.com/ajax/libs/mathjax/2.7.5/MathJax.js?config=TeX-AMS-MML_SVG\"></script><script type=\"text/javascript\">if (window.MathJax && window.MathJax.Hub && window.MathJax.Hub.Config) {window.MathJax.Hub.Config({SVG: {font: \"STIX-Web\"}});}</script>                <script type=\"text/javascript\">window.PlotlyConfig = {MathJaxConfig: 'local'};</script>\n",
              "        <script charset=\"utf-8\" src=\"https://cdn.plot.ly/plotly-2.24.1.min.js\"></script>                <div id=\"243ebf36-3709-4860-a59b-07a2b80dbbce\" class=\"plotly-graph-div\" style=\"height:525px; width:100%;\"></div>            <script type=\"text/javascript\">                                    window.PLOTLYENV=window.PLOTLYENV || {};                                    if (document.getElementById(\"243ebf36-3709-4860-a59b-07a2b80dbbce\")) {                    Plotly.newPlot(                        \"243ebf36-3709-4860-a59b-07a2b80dbbce\",                        [],                        {\"title\":{\"text\":\"Hyperparameter Importances\"},\"xaxis\":{\"title\":{\"text\":\"Hyperparameter Importance\"}},\"yaxis\":{\"title\":{\"text\":\"Hyperparameter\"}},\"template\":{\"data\":{\"histogram2dcontour\":[{\"type\":\"histogram2dcontour\",\"colorbar\":{\"outlinewidth\":0,\"ticks\":\"\"},\"colorscale\":[[0.0,\"#0d0887\"],[0.1111111111111111,\"#46039f\"],[0.2222222222222222,\"#7201a8\"],[0.3333333333333333,\"#9c179e\"],[0.4444444444444444,\"#bd3786\"],[0.5555555555555556,\"#d8576b\"],[0.6666666666666666,\"#ed7953\"],[0.7777777777777778,\"#fb9f3a\"],[0.8888888888888888,\"#fdca26\"],[1.0,\"#f0f921\"]]}],\"choropleth\":[{\"type\":\"choropleth\",\"colorbar\":{\"outlinewidth\":0,\"ticks\":\"\"}}],\"histogram2d\":[{\"type\":\"histogram2d\",\"colorbar\":{\"outlinewidth\":0,\"ticks\":\"\"},\"colorscale\":[[0.0,\"#0d0887\"],[0.1111111111111111,\"#46039f\"],[0.2222222222222222,\"#7201a8\"],[0.3333333333333333,\"#9c179e\"],[0.4444444444444444,\"#bd3786\"],[0.5555555555555556,\"#d8576b\"],[0.6666666666666666,\"#ed7953\"],[0.7777777777777778,\"#fb9f3a\"],[0.8888888888888888,\"#fdca26\"],[1.0,\"#f0f921\"]]}],\"heatmap\":[{\"type\":\"heatmap\",\"colorbar\":{\"outlinewidth\":0,\"ticks\":\"\"},\"colorscale\":[[0.0,\"#0d0887\"],[0.1111111111111111,\"#46039f\"],[0.2222222222222222,\"#7201a8\"],[0.3333333333333333,\"#9c179e\"],[0.4444444444444444,\"#bd3786\"],[0.5555555555555556,\"#d8576b\"],[0.6666666666666666,\"#ed7953\"],[0.7777777777777778,\"#fb9f3a\"],[0.8888888888888888,\"#fdca26\"],[1.0,\"#f0f921\"]]}],\"heatmapgl\":[{\"type\":\"heatmapgl\",\"colorbar\":{\"outlinewidth\":0,\"ticks\":\"\"},\"colorscale\":[[0.0,\"#0d0887\"],[0.1111111111111111,\"#46039f\"],[0.2222222222222222,\"#7201a8\"],[0.3333333333333333,\"#9c179e\"],[0.4444444444444444,\"#bd3786\"],[0.5555555555555556,\"#d8576b\"],[0.6666666666666666,\"#ed7953\"],[0.7777777777777778,\"#fb9f3a\"],[0.8888888888888888,\"#fdca26\"],[1.0,\"#f0f921\"]]}],\"contourcarpet\":[{\"type\":\"contourcarpet\",\"colorbar\":{\"outlinewidth\":0,\"ticks\":\"\"}}],\"contour\":[{\"type\":\"contour\",\"colorbar\":{\"outlinewidth\":0,\"ticks\":\"\"},\"colorscale\":[[0.0,\"#0d0887\"],[0.1111111111111111,\"#46039f\"],[0.2222222222222222,\"#7201a8\"],[0.3333333333333333,\"#9c179e\"],[0.4444444444444444,\"#bd3786\"],[0.5555555555555556,\"#d8576b\"],[0.6666666666666666,\"#ed7953\"],[0.7777777777777778,\"#fb9f3a\"],[0.8888888888888888,\"#fdca26\"],[1.0,\"#f0f921\"]]}],\"surface\":[{\"type\":\"surface\",\"colorbar\":{\"outlinewidth\":0,\"ticks\":\"\"},\"colorscale\":[[0.0,\"#0d0887\"],[0.1111111111111111,\"#46039f\"],[0.2222222222222222,\"#7201a8\"],[0.3333333333333333,\"#9c179e\"],[0.4444444444444444,\"#bd3786\"],[0.5555555555555556,\"#d8576b\"],[0.6666666666666666,\"#ed7953\"],[0.7777777777777778,\"#fb9f3a\"],[0.8888888888888888,\"#fdca26\"],[1.0,\"#f0f921\"]]}],\"mesh3d\":[{\"type\":\"mesh3d\",\"colorbar\":{\"outlinewidth\":0,\"ticks\":\"\"}}],\"scatter\":[{\"fillpattern\":{\"fillmode\":\"overlay\",\"size\":10,\"solidity\":0.2},\"type\":\"scatter\"}],\"parcoords\":[{\"type\":\"parcoords\",\"line\":{\"colorbar\":{\"outlinewidth\":0,\"ticks\":\"\"}}}],\"scatterpolargl\":[{\"type\":\"scatterpolargl\",\"marker\":{\"colorbar\":{\"outlinewidth\":0,\"ticks\":\"\"}}}],\"bar\":[{\"error_x\":{\"color\":\"#2a3f5f\"},\"error_y\":{\"color\":\"#2a3f5f\"},\"marker\":{\"line\":{\"color\":\"#E5ECF6\",\"width\":0.5},\"pattern\":{\"fillmode\":\"overlay\",\"size\":10,\"solidity\":0.2}},\"type\":\"bar\"}],\"scattergeo\":[{\"type\":\"scattergeo\",\"marker\":{\"colorbar\":{\"outlinewidth\":0,\"ticks\":\"\"}}}],\"scatterpolar\":[{\"type\":\"scatterpolar\",\"marker\":{\"colorbar\":{\"outlinewidth\":0,\"ticks\":\"\"}}}],\"histogram\":[{\"marker\":{\"pattern\":{\"fillmode\":\"overlay\",\"size\":10,\"solidity\":0.2}},\"type\":\"histogram\"}],\"scattergl\":[{\"type\":\"scattergl\",\"marker\":{\"colorbar\":{\"outlinewidth\":0,\"ticks\":\"\"}}}],\"scatter3d\":[{\"type\":\"scatter3d\",\"line\":{\"colorbar\":{\"outlinewidth\":0,\"ticks\":\"\"}},\"marker\":{\"colorbar\":{\"outlinewidth\":0,\"ticks\":\"\"}}}],\"scattermapbox\":[{\"type\":\"scattermapbox\",\"marker\":{\"colorbar\":{\"outlinewidth\":0,\"ticks\":\"\"}}}],\"scatterternary\":[{\"type\":\"scatterternary\",\"marker\":{\"colorbar\":{\"outlinewidth\":0,\"ticks\":\"\"}}}],\"scattercarpet\":[{\"type\":\"scattercarpet\",\"marker\":{\"colorbar\":{\"outlinewidth\":0,\"ticks\":\"\"}}}],\"carpet\":[{\"aaxis\":{\"endlinecolor\":\"#2a3f5f\",\"gridcolor\":\"white\",\"linecolor\":\"white\",\"minorgridcolor\":\"white\",\"startlinecolor\":\"#2a3f5f\"},\"baxis\":{\"endlinecolor\":\"#2a3f5f\",\"gridcolor\":\"white\",\"linecolor\":\"white\",\"minorgridcolor\":\"white\",\"startlinecolor\":\"#2a3f5f\"},\"type\":\"carpet\"}],\"table\":[{\"cells\":{\"fill\":{\"color\":\"#EBF0F8\"},\"line\":{\"color\":\"white\"}},\"header\":{\"fill\":{\"color\":\"#C8D4E3\"},\"line\":{\"color\":\"white\"}},\"type\":\"table\"}],\"barpolar\":[{\"marker\":{\"line\":{\"color\":\"#E5ECF6\",\"width\":0.5},\"pattern\":{\"fillmode\":\"overlay\",\"size\":10,\"solidity\":0.2}},\"type\":\"barpolar\"}],\"pie\":[{\"automargin\":true,\"type\":\"pie\"}]},\"layout\":{\"autotypenumbers\":\"strict\",\"colorway\":[\"#636efa\",\"#EF553B\",\"#00cc96\",\"#ab63fa\",\"#FFA15A\",\"#19d3f3\",\"#FF6692\",\"#B6E880\",\"#FF97FF\",\"#FECB52\"],\"font\":{\"color\":\"#2a3f5f\"},\"hovermode\":\"closest\",\"hoverlabel\":{\"align\":\"left\"},\"paper_bgcolor\":\"white\",\"plot_bgcolor\":\"#E5ECF6\",\"polar\":{\"bgcolor\":\"#E5ECF6\",\"angularaxis\":{\"gridcolor\":\"white\",\"linecolor\":\"white\",\"ticks\":\"\"},\"radialaxis\":{\"gridcolor\":\"white\",\"linecolor\":\"white\",\"ticks\":\"\"}},\"ternary\":{\"bgcolor\":\"#E5ECF6\",\"aaxis\":{\"gridcolor\":\"white\",\"linecolor\":\"white\",\"ticks\":\"\"},\"baxis\":{\"gridcolor\":\"white\",\"linecolor\":\"white\",\"ticks\":\"\"},\"caxis\":{\"gridcolor\":\"white\",\"linecolor\":\"white\",\"ticks\":\"\"}},\"coloraxis\":{\"colorbar\":{\"outlinewidth\":0,\"ticks\":\"\"}},\"colorscale\":{\"sequential\":[[0.0,\"#0d0887\"],[0.1111111111111111,\"#46039f\"],[0.2222222222222222,\"#7201a8\"],[0.3333333333333333,\"#9c179e\"],[0.4444444444444444,\"#bd3786\"],[0.5555555555555556,\"#d8576b\"],[0.6666666666666666,\"#ed7953\"],[0.7777777777777778,\"#fb9f3a\"],[0.8888888888888888,\"#fdca26\"],[1.0,\"#f0f921\"]],\"sequentialminus\":[[0.0,\"#0d0887\"],[0.1111111111111111,\"#46039f\"],[0.2222222222222222,\"#7201a8\"],[0.3333333333333333,\"#9c179e\"],[0.4444444444444444,\"#bd3786\"],[0.5555555555555556,\"#d8576b\"],[0.6666666666666666,\"#ed7953\"],[0.7777777777777778,\"#fb9f3a\"],[0.8888888888888888,\"#fdca26\"],[1.0,\"#f0f921\"]],\"diverging\":[[0,\"#8e0152\"],[0.1,\"#c51b7d\"],[0.2,\"#de77ae\"],[0.3,\"#f1b6da\"],[0.4,\"#fde0ef\"],[0.5,\"#f7f7f7\"],[0.6,\"#e6f5d0\"],[0.7,\"#b8e186\"],[0.8,\"#7fbc41\"],[0.9,\"#4d9221\"],[1,\"#276419\"]]},\"xaxis\":{\"gridcolor\":\"white\",\"linecolor\":\"white\",\"ticks\":\"\",\"title\":{\"standoff\":15},\"zerolinecolor\":\"white\",\"automargin\":true,\"zerolinewidth\":2},\"yaxis\":{\"gridcolor\":\"white\",\"linecolor\":\"white\",\"ticks\":\"\",\"title\":{\"standoff\":15},\"zerolinecolor\":\"white\",\"automargin\":true,\"zerolinewidth\":2},\"scene\":{\"xaxis\":{\"backgroundcolor\":\"#E5ECF6\",\"gridcolor\":\"white\",\"linecolor\":\"white\",\"showbackground\":true,\"ticks\":\"\",\"zerolinecolor\":\"white\",\"gridwidth\":2},\"yaxis\":{\"backgroundcolor\":\"#E5ECF6\",\"gridcolor\":\"white\",\"linecolor\":\"white\",\"showbackground\":true,\"ticks\":\"\",\"zerolinecolor\":\"white\",\"gridwidth\":2},\"zaxis\":{\"backgroundcolor\":\"#E5ECF6\",\"gridcolor\":\"white\",\"linecolor\":\"white\",\"showbackground\":true,\"ticks\":\"\",\"zerolinecolor\":\"white\",\"gridwidth\":2}},\"shapedefaults\":{\"line\":{\"color\":\"#2a3f5f\"}},\"annotationdefaults\":{\"arrowcolor\":\"#2a3f5f\",\"arrowhead\":0,\"arrowwidth\":1},\"geo\":{\"bgcolor\":\"white\",\"landcolor\":\"#E5ECF6\",\"subunitcolor\":\"white\",\"showland\":true,\"showlakes\":true,\"lakecolor\":\"white\"},\"title\":{\"x\":0.05},\"mapbox\":{\"style\":\"light\"}}}},                        {\"responsive\": true}                    ).then(function(){\n",
              "                            \n",
              "var gd = document.getElementById('243ebf36-3709-4860-a59b-07a2b80dbbce');\n",
              "var x = new MutationObserver(function (mutations, observer) {{\n",
              "        var display = window.getComputedStyle(gd).display;\n",
              "        if (!display || display === 'none') {{\n",
              "            console.log([gd, 'removed!']);\n",
              "            Plotly.purge(gd);\n",
              "            observer.disconnect();\n",
              "        }}\n",
              "}});\n",
              "\n",
              "// Listen for the removal of the full notebook cells\n",
              "var notebookContainer = gd.closest('#notebook-container');\n",
              "if (notebookContainer) {{\n",
              "    x.observe(notebookContainer, {childList: true});\n",
              "}}\n",
              "\n",
              "// Listen for the clearing of the current output cell\n",
              "var outputEl = gd.closest('.output');\n",
              "if (outputEl) {{\n",
              "    x.observe(outputEl, {childList: true});\n",
              "}}\n",
              "\n",
              "                        })                };                            </script>        </div>\n",
              "</body>\n",
              "</html>"
            ]
          },
          "metadata": {}
        },
        {
          "output_type": "display_data",
          "data": {
            "text/html": [
              "<html>\n",
              "<head><meta charset=\"utf-8\" /></head>\n",
              "<body>\n",
              "    <div>            <script src=\"https://cdnjs.cloudflare.com/ajax/libs/mathjax/2.7.5/MathJax.js?config=TeX-AMS-MML_SVG\"></script><script type=\"text/javascript\">if (window.MathJax && window.MathJax.Hub && window.MathJax.Hub.Config) {window.MathJax.Hub.Config({SVG: {font: \"STIX-Web\"}});}</script>                <script type=\"text/javascript\">window.PlotlyConfig = {MathJaxConfig: 'local'};</script>\n",
              "        <script charset=\"utf-8\" src=\"https://cdn.plot.ly/plotly-2.24.1.min.js\"></script>                <div id=\"e4fcdcb6-c10b-4d30-a521-d0f79d063a51\" class=\"plotly-graph-div\" style=\"height:525px; width:100%;\"></div>            <script type=\"text/javascript\">                                    window.PLOTLYENV=window.PLOTLYENV || {};                                    if (document.getElementById(\"e4fcdcb6-c10b-4d30-a521-d0f79d063a51\")) {                    Plotly.newPlot(                        \"e4fcdcb6-c10b-4d30-a521-d0f79d063a51\",                        [{\"marker\":{\"maxdisplayed\":10},\"mode\":\"lines+markers\",\"name\":\"Trial0\",\"x\":[1,2,3,4,5,6],\"y\":[96.627560375,-189.987138375,25.806926249999997,-138.78884325,-5.662479124999999,-226.30447175],\"type\":\"scatter\"},{\"marker\":{\"maxdisplayed\":10},\"mode\":\"lines+markers\",\"name\":\"Trial1\",\"x\":[1,2,3,4,5,6],\"y\":[-432.661495125,-179.419664,-74.00848487500001,-40.973253125,-26.184250250000005,143.372648625],\"type\":\"scatter\"},{\"marker\":{\"maxdisplayed\":10},\"mode\":\"lines+markers\",\"name\":\"Trial2\",\"x\":[1,2,3,4,5,6],\"y\":[-591.372839,-110.62205550000002,-64.389663125,99.44672650000001,162.82580775,68.56750075],\"type\":\"scatter\"},{\"marker\":{\"maxdisplayed\":10},\"mode\":\"lines+markers\",\"name\":\"Trial3\",\"x\":[1,2,3,4,5,6],\"y\":[-735.856866625,-39.645400375,160.10289962500002,180.539074625,204.68222974999998,220.95098637499999],\"type\":\"scatter\"},{\"marker\":{\"maxdisplayed\":10},\"mode\":\"lines+markers\",\"name\":\"Trial4\",\"x\":[1,2],\"y\":[-596.9724535,-497.88698375],\"type\":\"scatter\"},{\"marker\":{\"maxdisplayed\":10},\"mode\":\"lines+markers\",\"name\":\"Trial5\",\"x\":[1,2,3],\"y\":[-54.278785250000006,-183.379847875,-106.26822812500001],\"type\":\"scatter\"},{\"marker\":{\"maxdisplayed\":10},\"mode\":\"lines+markers\",\"name\":\"Trial6\",\"x\":[1,2],\"y\":[-290.026474625,-436.36773225],\"type\":\"scatter\"},{\"marker\":{\"maxdisplayed\":10},\"mode\":\"lines+markers\",\"name\":\"Trial7\",\"x\":[1,2,3,4,5,6],\"y\":[-12.061334125,108.5935595,-42.480544625,-149.044809375,-49.93209862500001,-94.766413375],\"type\":\"scatter\"},{\"marker\":{\"maxdisplayed\":10},\"mode\":\"lines+markers\",\"name\":\"Trial8\",\"x\":[1,2],\"y\":[-261.8383485,-475.541418375],\"type\":\"scatter\"},{\"marker\":{\"maxdisplayed\":10},\"mode\":\"lines+markers\",\"name\":\"Trial9\",\"x\":[1,2,3],\"y\":[-168.972642625,-99.652591125,-79.52143749999999],\"type\":\"scatter\"},{\"marker\":{\"maxdisplayed\":10},\"mode\":\"lines+markers\",\"name\":\"Trial10\",\"x\":[1,2,3,4,5,6],\"y\":[90.15599025,158.144135125,221.475852375,112.21625474999999,192.26713124999998,223.5486875],\"type\":\"scatter\"},{\"marker\":{\"maxdisplayed\":10},\"mode\":\"lines+markers\",\"name\":\"Trial11\",\"x\":[1,2,3,4,5,6],\"y\":[-71.931974125,146.95496799999998,240.25411337499997,258.96951487499996,246.246952625,244.958209125],\"type\":\"scatter\"},{\"marker\":{\"maxdisplayed\":10},\"mode\":\"lines+markers\",\"name\":\"Trial12\",\"x\":[1,2,3,4],\"y\":[-313.4338235,43.093252375,-93.76625299999999,-84.755967625],\"type\":\"scatter\"},{\"marker\":{\"maxdisplayed\":10},\"mode\":\"lines+markers\",\"name\":\"Trial13\",\"x\":[1,2],\"y\":[-786.1758962499999,-1364.065409375],\"type\":\"scatter\"},{\"marker\":{\"maxdisplayed\":10},\"mode\":\"lines+markers\",\"name\":\"Trial14\",\"x\":[1,2],\"y\":[-116.7323205,-132.716028],\"type\":\"scatter\"},{\"marker\":{\"maxdisplayed\":10},\"mode\":\"lines+markers\",\"name\":\"Trial15\",\"x\":[1,2],\"y\":[-335.92830375000005,-136.10337725],\"type\":\"scatter\"},{\"marker\":{\"maxdisplayed\":10},\"mode\":\"lines+markers\",\"name\":\"Trial16\",\"x\":[1,2,3,4,5],\"y\":[-115.21312487499998,117.94183875,-240.061518125,133.24204525,-127.51474675],\"type\":\"scatter\"},{\"marker\":{\"maxdisplayed\":10},\"mode\":\"lines+markers\",\"name\":\"Trial17\",\"x\":[1,2],\"y\":[-106.77547687500001,-158.69464025000002],\"type\":\"scatter\"},{\"marker\":{\"maxdisplayed\":10},\"mode\":\"lines+markers\",\"name\":\"Trial18\",\"x\":[1,2,3,4,5,6],\"y\":[-34.853025625,-21.635757625,100.72756262499999,180.94667425,231.19654825,217.88865600000003],\"type\":\"scatter\"},{\"marker\":{\"maxdisplayed\":10},\"mode\":\"lines+markers\",\"name\":\"Trial19\",\"x\":[1,2,3,4],\"y\":[91.1942345,87.969515375,-167.04106375,-99.330511875],\"type\":\"scatter\"},{\"marker\":{\"maxdisplayed\":10},\"mode\":\"lines+markers\",\"name\":\"Trial20\",\"x\":[1,2],\"y\":[-249.425572875,-103.0913725],\"type\":\"scatter\"},{\"marker\":{\"maxdisplayed\":10},\"mode\":\"lines+markers\",\"name\":\"Trial21\",\"x\":[1,2,3,4,5,6],\"y\":[-139.847612125,22.7256415,112.44420249999999,134.74068275000002,226.269254125,224.54699325],\"type\":\"scatter\"},{\"marker\":{\"maxdisplayed\":10},\"mode\":\"lines+markers\",\"name\":\"Trial22\",\"x\":[1,2,3,4,5,6],\"y\":[67.85474112499999,176.057659875,171.069019125,250.83035324999997,202.333173125,167.04951799999998],\"type\":\"scatter\"},{\"marker\":{\"maxdisplayed\":10},\"mode\":\"lines+markers\",\"name\":\"Trial23\",\"x\":[1,2,3],\"y\":[30.375176999999997,-15.350540375000001,42.104456375],\"type\":\"scatter\"},{\"marker\":{\"maxdisplayed\":10},\"mode\":\"lines+markers\",\"name\":\"Trial24\",\"x\":[1,2],\"y\":[-395.9555285,-224.11271062499998],\"type\":\"scatter\"}],                        {\"showlegend\":false,\"title\":{\"text\":\"Intermediate Values Plot\"},\"xaxis\":{\"title\":{\"text\":\"Step\"}},\"yaxis\":{\"title\":{\"text\":\"Intermediate Value\"}},\"template\":{\"data\":{\"histogram2dcontour\":[{\"type\":\"histogram2dcontour\",\"colorbar\":{\"outlinewidth\":0,\"ticks\":\"\"},\"colorscale\":[[0.0,\"#0d0887\"],[0.1111111111111111,\"#46039f\"],[0.2222222222222222,\"#7201a8\"],[0.3333333333333333,\"#9c179e\"],[0.4444444444444444,\"#bd3786\"],[0.5555555555555556,\"#d8576b\"],[0.6666666666666666,\"#ed7953\"],[0.7777777777777778,\"#fb9f3a\"],[0.8888888888888888,\"#fdca26\"],[1.0,\"#f0f921\"]]}],\"choropleth\":[{\"type\":\"choropleth\",\"colorbar\":{\"outlinewidth\":0,\"ticks\":\"\"}}],\"histogram2d\":[{\"type\":\"histogram2d\",\"colorbar\":{\"outlinewidth\":0,\"ticks\":\"\"},\"colorscale\":[[0.0,\"#0d0887\"],[0.1111111111111111,\"#46039f\"],[0.2222222222222222,\"#7201a8\"],[0.3333333333333333,\"#9c179e\"],[0.4444444444444444,\"#bd3786\"],[0.5555555555555556,\"#d8576b\"],[0.6666666666666666,\"#ed7953\"],[0.7777777777777778,\"#fb9f3a\"],[0.8888888888888888,\"#fdca26\"],[1.0,\"#f0f921\"]]}],\"heatmap\":[{\"type\":\"heatmap\",\"colorbar\":{\"outlinewidth\":0,\"ticks\":\"\"},\"colorscale\":[[0.0,\"#0d0887\"],[0.1111111111111111,\"#46039f\"],[0.2222222222222222,\"#7201a8\"],[0.3333333333333333,\"#9c179e\"],[0.4444444444444444,\"#bd3786\"],[0.5555555555555556,\"#d8576b\"],[0.6666666666666666,\"#ed7953\"],[0.7777777777777778,\"#fb9f3a\"],[0.8888888888888888,\"#fdca26\"],[1.0,\"#f0f921\"]]}],\"heatmapgl\":[{\"type\":\"heatmapgl\",\"colorbar\":{\"outlinewidth\":0,\"ticks\":\"\"},\"colorscale\":[[0.0,\"#0d0887\"],[0.1111111111111111,\"#46039f\"],[0.2222222222222222,\"#7201a8\"],[0.3333333333333333,\"#9c179e\"],[0.4444444444444444,\"#bd3786\"],[0.5555555555555556,\"#d8576b\"],[0.6666666666666666,\"#ed7953\"],[0.7777777777777778,\"#fb9f3a\"],[0.8888888888888888,\"#fdca26\"],[1.0,\"#f0f921\"]]}],\"contourcarpet\":[{\"type\":\"contourcarpet\",\"colorbar\":{\"outlinewidth\":0,\"ticks\":\"\"}}],\"contour\":[{\"type\":\"contour\",\"colorbar\":{\"outlinewidth\":0,\"ticks\":\"\"},\"colorscale\":[[0.0,\"#0d0887\"],[0.1111111111111111,\"#46039f\"],[0.2222222222222222,\"#7201a8\"],[0.3333333333333333,\"#9c179e\"],[0.4444444444444444,\"#bd3786\"],[0.5555555555555556,\"#d8576b\"],[0.6666666666666666,\"#ed7953\"],[0.7777777777777778,\"#fb9f3a\"],[0.8888888888888888,\"#fdca26\"],[1.0,\"#f0f921\"]]}],\"surface\":[{\"type\":\"surface\",\"colorbar\":{\"outlinewidth\":0,\"ticks\":\"\"},\"colorscale\":[[0.0,\"#0d0887\"],[0.1111111111111111,\"#46039f\"],[0.2222222222222222,\"#7201a8\"],[0.3333333333333333,\"#9c179e\"],[0.4444444444444444,\"#bd3786\"],[0.5555555555555556,\"#d8576b\"],[0.6666666666666666,\"#ed7953\"],[0.7777777777777778,\"#fb9f3a\"],[0.8888888888888888,\"#fdca26\"],[1.0,\"#f0f921\"]]}],\"mesh3d\":[{\"type\":\"mesh3d\",\"colorbar\":{\"outlinewidth\":0,\"ticks\":\"\"}}],\"scatter\":[{\"fillpattern\":{\"fillmode\":\"overlay\",\"size\":10,\"solidity\":0.2},\"type\":\"scatter\"}],\"parcoords\":[{\"type\":\"parcoords\",\"line\":{\"colorbar\":{\"outlinewidth\":0,\"ticks\":\"\"}}}],\"scatterpolargl\":[{\"type\":\"scatterpolargl\",\"marker\":{\"colorbar\":{\"outlinewidth\":0,\"ticks\":\"\"}}}],\"bar\":[{\"error_x\":{\"color\":\"#2a3f5f\"},\"error_y\":{\"color\":\"#2a3f5f\"},\"marker\":{\"line\":{\"color\":\"#E5ECF6\",\"width\":0.5},\"pattern\":{\"fillmode\":\"overlay\",\"size\":10,\"solidity\":0.2}},\"type\":\"bar\"}],\"scattergeo\":[{\"type\":\"scattergeo\",\"marker\":{\"colorbar\":{\"outlinewidth\":0,\"ticks\":\"\"}}}],\"scatterpolar\":[{\"type\":\"scatterpolar\",\"marker\":{\"colorbar\":{\"outlinewidth\":0,\"ticks\":\"\"}}}],\"histogram\":[{\"marker\":{\"pattern\":{\"fillmode\":\"overlay\",\"size\":10,\"solidity\":0.2}},\"type\":\"histogram\"}],\"scattergl\":[{\"type\":\"scattergl\",\"marker\":{\"colorbar\":{\"outlinewidth\":0,\"ticks\":\"\"}}}],\"scatter3d\":[{\"type\":\"scatter3d\",\"line\":{\"colorbar\":{\"outlinewidth\":0,\"ticks\":\"\"}},\"marker\":{\"colorbar\":{\"outlinewidth\":0,\"ticks\":\"\"}}}],\"scattermapbox\":[{\"type\":\"scattermapbox\",\"marker\":{\"colorbar\":{\"outlinewidth\":0,\"ticks\":\"\"}}}],\"scatterternary\":[{\"type\":\"scatterternary\",\"marker\":{\"colorbar\":{\"outlinewidth\":0,\"ticks\":\"\"}}}],\"scattercarpet\":[{\"type\":\"scattercarpet\",\"marker\":{\"colorbar\":{\"outlinewidth\":0,\"ticks\":\"\"}}}],\"carpet\":[{\"aaxis\":{\"endlinecolor\":\"#2a3f5f\",\"gridcolor\":\"white\",\"linecolor\":\"white\",\"minorgridcolor\":\"white\",\"startlinecolor\":\"#2a3f5f\"},\"baxis\":{\"endlinecolor\":\"#2a3f5f\",\"gridcolor\":\"white\",\"linecolor\":\"white\",\"minorgridcolor\":\"white\",\"startlinecolor\":\"#2a3f5f\"},\"type\":\"carpet\"}],\"table\":[{\"cells\":{\"fill\":{\"color\":\"#EBF0F8\"},\"line\":{\"color\":\"white\"}},\"header\":{\"fill\":{\"color\":\"#C8D4E3\"},\"line\":{\"color\":\"white\"}},\"type\":\"table\"}],\"barpolar\":[{\"marker\":{\"line\":{\"color\":\"#E5ECF6\",\"width\":0.5},\"pattern\":{\"fillmode\":\"overlay\",\"size\":10,\"solidity\":0.2}},\"type\":\"barpolar\"}],\"pie\":[{\"automargin\":true,\"type\":\"pie\"}]},\"layout\":{\"autotypenumbers\":\"strict\",\"colorway\":[\"#636efa\",\"#EF553B\",\"#00cc96\",\"#ab63fa\",\"#FFA15A\",\"#19d3f3\",\"#FF6692\",\"#B6E880\",\"#FF97FF\",\"#FECB52\"],\"font\":{\"color\":\"#2a3f5f\"},\"hovermode\":\"closest\",\"hoverlabel\":{\"align\":\"left\"},\"paper_bgcolor\":\"white\",\"plot_bgcolor\":\"#E5ECF6\",\"polar\":{\"bgcolor\":\"#E5ECF6\",\"angularaxis\":{\"gridcolor\":\"white\",\"linecolor\":\"white\",\"ticks\":\"\"},\"radialaxis\":{\"gridcolor\":\"white\",\"linecolor\":\"white\",\"ticks\":\"\"}},\"ternary\":{\"bgcolor\":\"#E5ECF6\",\"aaxis\":{\"gridcolor\":\"white\",\"linecolor\":\"white\",\"ticks\":\"\"},\"baxis\":{\"gridcolor\":\"white\",\"linecolor\":\"white\",\"ticks\":\"\"},\"caxis\":{\"gridcolor\":\"white\",\"linecolor\":\"white\",\"ticks\":\"\"}},\"coloraxis\":{\"colorbar\":{\"outlinewidth\":0,\"ticks\":\"\"}},\"colorscale\":{\"sequential\":[[0.0,\"#0d0887\"],[0.1111111111111111,\"#46039f\"],[0.2222222222222222,\"#7201a8\"],[0.3333333333333333,\"#9c179e\"],[0.4444444444444444,\"#bd3786\"],[0.5555555555555556,\"#d8576b\"],[0.6666666666666666,\"#ed7953\"],[0.7777777777777778,\"#fb9f3a\"],[0.8888888888888888,\"#fdca26\"],[1.0,\"#f0f921\"]],\"sequentialminus\":[[0.0,\"#0d0887\"],[0.1111111111111111,\"#46039f\"],[0.2222222222222222,\"#7201a8\"],[0.3333333333333333,\"#9c179e\"],[0.4444444444444444,\"#bd3786\"],[0.5555555555555556,\"#d8576b\"],[0.6666666666666666,\"#ed7953\"],[0.7777777777777778,\"#fb9f3a\"],[0.8888888888888888,\"#fdca26\"],[1.0,\"#f0f921\"]],\"diverging\":[[0,\"#8e0152\"],[0.1,\"#c51b7d\"],[0.2,\"#de77ae\"],[0.3,\"#f1b6da\"],[0.4,\"#fde0ef\"],[0.5,\"#f7f7f7\"],[0.6,\"#e6f5d0\"],[0.7,\"#b8e186\"],[0.8,\"#7fbc41\"],[0.9,\"#4d9221\"],[1,\"#276419\"]]},\"xaxis\":{\"gridcolor\":\"white\",\"linecolor\":\"white\",\"ticks\":\"\",\"title\":{\"standoff\":15},\"zerolinecolor\":\"white\",\"automargin\":true,\"zerolinewidth\":2},\"yaxis\":{\"gridcolor\":\"white\",\"linecolor\":\"white\",\"ticks\":\"\",\"title\":{\"standoff\":15},\"zerolinecolor\":\"white\",\"automargin\":true,\"zerolinewidth\":2},\"scene\":{\"xaxis\":{\"backgroundcolor\":\"#E5ECF6\",\"gridcolor\":\"white\",\"linecolor\":\"white\",\"showbackground\":true,\"ticks\":\"\",\"zerolinecolor\":\"white\",\"gridwidth\":2},\"yaxis\":{\"backgroundcolor\":\"#E5ECF6\",\"gridcolor\":\"white\",\"linecolor\":\"white\",\"showbackground\":true,\"ticks\":\"\",\"zerolinecolor\":\"white\",\"gridwidth\":2},\"zaxis\":{\"backgroundcolor\":\"#E5ECF6\",\"gridcolor\":\"white\",\"linecolor\":\"white\",\"showbackground\":true,\"ticks\":\"\",\"zerolinecolor\":\"white\",\"gridwidth\":2}},\"shapedefaults\":{\"line\":{\"color\":\"#2a3f5f\"}},\"annotationdefaults\":{\"arrowcolor\":\"#2a3f5f\",\"arrowhead\":0,\"arrowwidth\":1},\"geo\":{\"bgcolor\":\"white\",\"landcolor\":\"#E5ECF6\",\"subunitcolor\":\"white\",\"showland\":true,\"showlakes\":true,\"lakecolor\":\"white\"},\"title\":{\"x\":0.05},\"mapbox\":{\"style\":\"light\"}}}},                        {\"responsive\": true}                    ).then(function(){\n",
              "                            \n",
              "var gd = document.getElementById('e4fcdcb6-c10b-4d30-a521-d0f79d063a51');\n",
              "var x = new MutationObserver(function (mutations, observer) {{\n",
              "        var display = window.getComputedStyle(gd).display;\n",
              "        if (!display || display === 'none') {{\n",
              "            console.log([gd, 'removed!']);\n",
              "            Plotly.purge(gd);\n",
              "            observer.disconnect();\n",
              "        }}\n",
              "}});\n",
              "\n",
              "// Listen for the removal of the full notebook cells\n",
              "var notebookContainer = gd.closest('#notebook-container');\n",
              "if (notebookContainer) {{\n",
              "    x.observe(notebookContainer, {childList: true});\n",
              "}}\n",
              "\n",
              "// Listen for the clearing of the current output cell\n",
              "var outputEl = gd.closest('.output');\n",
              "if (outputEl) {{\n",
              "    x.observe(outputEl, {childList: true});\n",
              "}}\n",
              "\n",
              "                        })                };                            </script>        </div>\n",
              "</body>\n",
              "</html>"
            ]
          },
          "metadata": {}
        }
      ]
    },
    {
      "cell_type": "code",
      "source": [
        "with open(SAVED_PARAMS_FILE, 'w') as fp:\n",
        "    json.dump(study.best_params, fp)"
      ],
      "metadata": {
        "id": "bnCxcbS_Xa7c",
        "colab": {
          "base_uri": "https://localhost:8080/"
        },
        "outputId": "e214e6be-550b-4342-bd79-f4d68f55d1fe"
      },
      "execution_count": 17,
      "outputs": [
        {
          "output_type": "stream",
          "name": "stderr",
          "text": [
            "/usr/local/lib/python3.10/dist-packages/ipykernel/ipkernel.py:283: DeprecationWarning:\n",
            "\n",
            "`should_run_async` will not call `transform_cell` automatically in the future. Please pass the result to `transformed_cell` argument and any exception that happen during thetransform in `preprocessing_exc_tuple` in IPython 7.17 and above.\n",
            "\n"
          ]
        }
      ]
    },
    {
      "cell_type": "code",
      "source": [
        "study.best_params"
      ],
      "metadata": {
        "id": "dgGTnyN2kG0Q",
        "colab": {
          "base_uri": "https://localhost:8080/"
        },
        "outputId": "1cd1ed3b-0a2c-47d2-fa14-4bde6fd6c697"
      },
      "execution_count": 18,
      "outputs": [
        {
          "output_type": "execute_result",
          "data": {
            "text/plain": [
              "{}"
            ]
          },
          "metadata": {},
          "execution_count": 18
        }
      ]
    },
    {
      "cell_type": "code",
      "source": [
        "if len(study.trials)>0:\n",
        "    trial = study.best_trial\n",
        "    print(f'Best trial: {trial.number} Value: {trial.value}')\n",
        "\n",
        "    print(\"  Params: \")\n",
        "    for key, value in study.best_params.items():\n",
        "        print(f\"    {key}: {value}\")"
      ],
      "metadata": {
        "id": "R1buKUWNjv_g",
        "colab": {
          "base_uri": "https://localhost:8080/"
        },
        "outputId": "010fed4f-d8ed-490f-93f7-32dd1770f525"
      },
      "execution_count": 19,
      "outputs": [
        {
          "output_type": "stream",
          "name": "stdout",
          "text": [
            "Best trial: 10 Value: 239.74346462801856\n",
            "  Params: \n"
          ]
        }
      ]
    }
  ],
  "metadata": {
    "colab": {
      "provenance": [],
      "gpuType": "T4",
      "include_colab_link": true
    },
    "kernelspec": {
      "display_name": "Python 3",
      "name": "python3"
    },
    "language_info": {
      "name": "python"
    },
    "accelerator": "GPU"
  },
  "nbformat": 4,
  "nbformat_minor": 0
}